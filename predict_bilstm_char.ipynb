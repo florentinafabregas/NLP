{
 "cells": [
  {
   "cell_type": "code",
   "execution_count": null,
   "metadata": {},
   "outputs": [],
   "source": [
    "import torch\n",
    "import torch.nn as nn\n",
    "from torch.nn.utils.rnn import pack_padded_sequence, pad_packed_sequence\n",
    "from torch.utils.data import DataLoader, TensorDataset\n",
    "import pickle"
   ]
  },
  {
   "cell_type": "code",
   "execution_count": 10,
   "metadata": {},
   "outputs": [],
   "source": [
    "# Load the dictionaries\n",
    "with open('models/bilstm_char/id2word.pkl', 'rb') as f:\n",
    "    id2word = pickle.load(f)\n",
    "with open('models/bilstm_char/id2tag.pkl', 'rb') as f:\n",
    "    id2tag = pickle.load(f)\n",
    "with open('models/bilstm_char/vocab.pkl', 'rb') as f:\n",
    "    vocab = pickle.load(f)\n",
    "with open('models/bilstm_char/nertags.pkl', 'rb') as f:\n",
    "    nertags = pickle.load(f)"
   ]
  },
  {
   "cell_type": "code",
   "execution_count": 7,
   "metadata": {},
   "outputs": [],
   "source": [
    "## LSTM for CHARACTER level\n",
    "\n",
    "class forLSTM(nn.Module):\n",
    "    def __init__(self, embedding_size, hidden_size, pretr_char_embed):\n",
    "        super(forLSTM, self).__init__()\n",
    "        self.charembed = nn.Embedding.from_pretrained(pretr_char_embed, freeze = False) #size of pretrained = (totalchars,embedding size)\n",
    "        self.lstm = nn.LSTM(embedding_size, hidden_size, bidirectional = True, batch_first = True)\n",
    "\n",
    "    def forward(self, xchar, xlength_char):\n",
    "        #xchar is of shape(batchsize, seqlen_maxinbatch, maxwordlen-ie max char = 6)\n",
    "\n",
    "        shape = xchar.shape\n",
    "        xchar = xchar.view(-1, shape[2])\n",
    "        xlength_char = xlength_char.view(-1)\n",
    "        input = pack_padded_sequence(xchar, xlength_char.cpu(), batch_first=True, enforce_sorted=False)\n",
    "        input, _ = pad_packed_sequence(input, batch_first=True)\n",
    "        embed = self.charembed(input)\n",
    "        _, (h,_) = self.lstm(embed) #h is of size (2, 128*maxno. of words in a sentence in the batch, 25)\n",
    "        h = h.view(h.shape[1], 50)\n",
    "        h = h.view(shape[0], shape[1], 50)\n",
    "        return h"
   ]
  },
  {
   "cell_type": "code",
   "execution_count": 8,
   "metadata": {},
   "outputs": [],
   "source": [
    "## BILSTM model\n",
    "\n",
    "class BiLSTM(nn.Module):\n",
    "    def __init__(self, embedding_size, hidden_size, total_words, num_class, pretrained = False, pretrained_embed = None, char_embed_size = 0, pretr_char_embed = None):\n",
    "        super(BiLSTM, self).__init__()\n",
    "        self.hidden_size = hidden_size\n",
    "        self.wordembed = nn.Embedding.from_pretrained(pretrained_embed, freeze = False)\n",
    "        self.for_charembed = forLSTM(embedding_size = char_embed_size, hidden_size = 25, pretr_char_embed = pretr_char_embed)\n",
    "        self.dropout = nn.Dropout(p = 0.5)\n",
    "        self.bilstm = nn.LSTM(embedding_size + 50,hidden_size, bidirectional = True, batch_first = True)\n",
    "        self.linear = nn.Linear(2*hidden_size, num_class) # 2 because forward and backward concatenate\n",
    "\n",
    "    def forward(self, x, xchar, xlengths, xlength_char):\n",
    "        x = pack_padded_sequence(x, xlengths.cpu(), batch_first=True, enforce_sorted=False)\n",
    "        x, _ = pad_packed_sequence(x, batch_first=True)\n",
    "\n",
    "        xlength_char = pack_padded_sequence(xlength_char, xlengths.cpu(), batch_first=True, enforce_sorted=False)\n",
    "        xlength_char, _ = pad_packed_sequence(xlength_char, batch_first=True, padding_value = len(\"<pad>\")) \n",
    "        # above this line padding value is taken as len of pad word becasue that is what we pad sentences \n",
    "        # with hance at a character level it should be the length\n",
    "\n",
    "        xchar = pack_padded_sequence(xchar, xlengths.cpu(), batch_first=True, enforce_sorted=False)\n",
    "        xchar, _ = pad_packed_sequence(xchar, batch_first=True)\n",
    "\n",
    "        word_embedding = self.wordembed(x) # x is of size(batchsize, seq_len), wordembed is of size (batchsize, seq_len, embedding_size = 100)\n",
    "        forwardchar= self.for_charembed(xchar, xlength_char) #forwardchar and backwardchar would be of size (batchsize, seqlen. embedding_size = 25each) \n",
    "        word_embedding = torch.cat((word_embedding, forwardchar), dim = 2)\n",
    "\n",
    "        word_embedding = self.dropout(word_embedding) #dropout\n",
    "        out, (h,c) = self.bilstm(word_embedding) #'out' has dimension(batchsize, seq_len, 2*hidden_size)\n",
    "\n",
    "        out = self.linear(out) #now 'out' has dimension(batchsize, seq_len, num_class)\n",
    "        out = out.view(-1, out.shape[2]) # shape (128*seqlen, 18)\n",
    "        out = F.log_softmax(out, dim=1) # take the softmax across the dimension num_class, 'out' has dimension(batchsize, seq_len, num_class)\n",
    "        return out"
   ]
  },
  {
   "cell_type": "code",
   "execution_count": null,
   "metadata": {},
   "outputs": [],
   "source": []
  },
  {
   "cell_type": "code",
   "execution_count": 9,
   "metadata": {},
   "outputs": [
    {
     "ename": "AttributeError",
     "evalue": "'NoneType' object has no attribute 'dim'",
     "output_type": "error",
     "traceback": [
      "\u001b[0;31m---------------------------------------------------------------------------\u001b[0m",
      "\u001b[0;31mAttributeError\u001b[0m                            Traceback (most recent call last)",
      "\u001b[1;32m/Users/florentinafabregas/Documents/ITU/ultimate NLP/NLP/predict_bilstm_char.ipynb Cell 5\u001b[0m line \u001b[0;36m1\n\u001b[0;32m----> <a href='vscode-notebook-cell:/Users/florentinafabregas/Documents/ITU/ultimate%20NLP/NLP/predict_bilstm_char.ipynb#W2sZmlsZQ%3D%3D?line=0'>1</a>\u001b[0m model \u001b[39m=\u001b[39m BiLSTM(embedding_size \u001b[39m=\u001b[39m \u001b[39m100\u001b[39m, hidden_size \u001b[39m=\u001b[39m \u001b[39m100\u001b[39m, total_words \u001b[39m=\u001b[39m \u001b[39mlen\u001b[39m(vocab), num_class \u001b[39m=\u001b[39m \u001b[39m18\u001b[39m, char_embed_size \u001b[39m=\u001b[39m \u001b[39mlen\u001b[39m(char_vocab)) \n\u001b[1;32m      <a href='vscode-notebook-cell:/Users/florentinafabregas/Documents/ITU/ultimate%20NLP/NLP/predict_bilstm_char.ipynb#W2sZmlsZQ%3D%3D?line=1'>2</a>\u001b[0m model\u001b[39m.\u001b[39mload_state_dict(torch\u001b[39m.\u001b[39mload(\u001b[39m'\u001b[39m\u001b[39mmodels/bilstm_char/trained_bilstm_model_state_dict.pth\u001b[39m\u001b[39m'\u001b[39m))\n\u001b[1;32m      <a href='vscode-notebook-cell:/Users/florentinafabregas/Documents/ITU/ultimate%20NLP/NLP/predict_bilstm_char.ipynb#W2sZmlsZQ%3D%3D?line=3'>4</a>\u001b[0m model\u001b[39m.\u001b[39meval()\n",
      "\u001b[1;32m/Users/florentinafabregas/Documents/ITU/ultimate NLP/NLP/predict_bilstm_char.ipynb Cell 5\u001b[0m line \u001b[0;36m7\n\u001b[1;32m      <a href='vscode-notebook-cell:/Users/florentinafabregas/Documents/ITU/ultimate%20NLP/NLP/predict_bilstm_char.ipynb#W2sZmlsZQ%3D%3D?line=4'>5</a>\u001b[0m \u001b[39msuper\u001b[39m(BiLSTM, \u001b[39mself\u001b[39m)\u001b[39m.\u001b[39m\u001b[39m__init__\u001b[39m()\n\u001b[1;32m      <a href='vscode-notebook-cell:/Users/florentinafabregas/Documents/ITU/ultimate%20NLP/NLP/predict_bilstm_char.ipynb#W2sZmlsZQ%3D%3D?line=5'>6</a>\u001b[0m \u001b[39mself\u001b[39m\u001b[39m.\u001b[39mhidden_size \u001b[39m=\u001b[39m hidden_size\n\u001b[0;32m----> <a href='vscode-notebook-cell:/Users/florentinafabregas/Documents/ITU/ultimate%20NLP/NLP/predict_bilstm_char.ipynb#W2sZmlsZQ%3D%3D?line=6'>7</a>\u001b[0m \u001b[39mself\u001b[39m\u001b[39m.\u001b[39mwordembed \u001b[39m=\u001b[39m nn\u001b[39m.\u001b[39mEmbedding\u001b[39m.\u001b[39mfrom_pretrained(pretrained_embed, freeze \u001b[39m=\u001b[39m \u001b[39mFalse\u001b[39;00m)\n\u001b[1;32m      <a href='vscode-notebook-cell:/Users/florentinafabregas/Documents/ITU/ultimate%20NLP/NLP/predict_bilstm_char.ipynb#W2sZmlsZQ%3D%3D?line=7'>8</a>\u001b[0m \u001b[39mself\u001b[39m\u001b[39m.\u001b[39mfor_charembed \u001b[39m=\u001b[39m forLSTM(embedding_size \u001b[39m=\u001b[39m char_embed_size, hidden_size \u001b[39m=\u001b[39m \u001b[39m25\u001b[39m, pretr_char_embed \u001b[39m=\u001b[39m pretr_char_embed)\n\u001b[1;32m      <a href='vscode-notebook-cell:/Users/florentinafabregas/Documents/ITU/ultimate%20NLP/NLP/predict_bilstm_char.ipynb#W2sZmlsZQ%3D%3D?line=8'>9</a>\u001b[0m \u001b[39mself\u001b[39m\u001b[39m.\u001b[39mdropout \u001b[39m=\u001b[39m nn\u001b[39m.\u001b[39mDropout(p \u001b[39m=\u001b[39m \u001b[39m0.5\u001b[39m)\n",
      "File \u001b[0;32m~/anaconda3/lib/python3.11/site-packages/torch/nn/modules/sparse.py:211\u001b[0m, in \u001b[0;36mEmbedding.from_pretrained\u001b[0;34m(cls, embeddings, freeze, padding_idx, max_norm, norm_type, scale_grad_by_freq, sparse)\u001b[0m\n\u001b[1;32m    181\u001b[0m \u001b[39m@classmethod\u001b[39m\n\u001b[1;32m    182\u001b[0m \u001b[39mdef\u001b[39;00m \u001b[39mfrom_pretrained\u001b[39m(\u001b[39mcls\u001b[39m, embeddings, freeze\u001b[39m=\u001b[39m\u001b[39mTrue\u001b[39;00m, padding_idx\u001b[39m=\u001b[39m\u001b[39mNone\u001b[39;00m,\n\u001b[1;32m    183\u001b[0m                     max_norm\u001b[39m=\u001b[39m\u001b[39mNone\u001b[39;00m, norm_type\u001b[39m=\u001b[39m\u001b[39m2.\u001b[39m, scale_grad_by_freq\u001b[39m=\u001b[39m\u001b[39mFalse\u001b[39;00m,\n\u001b[1;32m    184\u001b[0m                     sparse\u001b[39m=\u001b[39m\u001b[39mFalse\u001b[39;00m):\n\u001b[1;32m    185\u001b[0m \u001b[39m    \u001b[39m\u001b[39mr\u001b[39m\u001b[39m\"\"\"Create Embedding instance from given 2-dimensional FloatTensor.\u001b[39;00m\n\u001b[1;32m    186\u001b[0m \n\u001b[1;32m    187\u001b[0m \u001b[39m    Args:\u001b[39;00m\n\u001b[0;32m   (...)\u001b[0m\n\u001b[1;32m    209\u001b[0m \u001b[39m        tensor([[ 4.0000,  5.1000,  6.3000]])\u001b[39;00m\n\u001b[1;32m    210\u001b[0m \u001b[39m    \"\"\"\u001b[39;00m\n\u001b[0;32m--> 211\u001b[0m     \u001b[39massert\u001b[39;00m embeddings\u001b[39m.\u001b[39mdim() \u001b[39m==\u001b[39m \u001b[39m2\u001b[39m, \\\n\u001b[1;32m    212\u001b[0m         \u001b[39m'\u001b[39m\u001b[39mEmbeddings parameter is expected to be 2-dimensional\u001b[39m\u001b[39m'\u001b[39m\n\u001b[1;32m    213\u001b[0m     rows, cols \u001b[39m=\u001b[39m embeddings\u001b[39m.\u001b[39mshape\n\u001b[1;32m    214\u001b[0m     embedding \u001b[39m=\u001b[39m \u001b[39mcls\u001b[39m(\n\u001b[1;32m    215\u001b[0m         num_embeddings\u001b[39m=\u001b[39mrows,\n\u001b[1;32m    216\u001b[0m         embedding_dim\u001b[39m=\u001b[39mcols,\n\u001b[0;32m   (...)\u001b[0m\n\u001b[1;32m    222\u001b[0m         scale_grad_by_freq\u001b[39m=\u001b[39mscale_grad_by_freq,\n\u001b[1;32m    223\u001b[0m         sparse\u001b[39m=\u001b[39msparse)\n",
      "\u001b[0;31mAttributeError\u001b[0m: 'NoneType' object has no attribute 'dim'"
     ]
    }
   ],
   "source": [
    "model = BiLSTM(embedding_size = 100, hidden_size = 100, total_words = len(vocab), num_class = 18, char_embed_size = len(char_vocab)) \n",
    "model.load_state_dict(torch.load('models/bilstm_char/trained_bilstm_model_state_dict.pth'))\n",
    "\n",
    "model.eval()\n"
   ]
  },
  {
   "cell_type": "code",
   "execution_count": 14,
   "metadata": {},
   "outputs": [],
   "source": [
    "def out_predictions(model, loader, output_file):\n",
    "    with open(output_file, 'w') as f:\n",
    "        with torch.no_grad():\n",
    "            for step, (X, Y, xlen) in enumerate(loader):\n",
    "                Y = pack_padded_sequence(Y, xlen, batch_first=True, enforce_sorted=False)\n",
    "                Y, _ = pad_packed_sequence(Y, batch_first=True)\n",
    "                ypred = model(X.long().to(device), xlen.to(device))\n",
    "                ypred = torch.argmax(ypred.to('cpu'), dim=1)\n",
    "                ypred = ypred.view(Y.shape[0], -1)\n",
    "                for i in range(len(ypred)):\n",
    "                    for j in range(len(ypred[i])):\n",
    "                        word = id2word[int(X[i, j])]\n",
    "                        tag = id2tag[int(ypred[i, j])]\n",
    "                        f.write(f\"{word}\\t{tag}\\n\")\n",
    "                    f.write('\\n')\n",
    "\n",
    "# Assuming 'device' and 'id2word', 'id2tag' are defined elsewhere\n",
    "device = torch.device('cuda' if torch.cuda.is_available() else 'cpu')"
   ]
  },
  {
   "cell_type": "code",
   "execution_count": null,
   "metadata": {},
   "outputs": [],
   "source": []
  },
  {
   "cell_type": "code",
   "execution_count": 15,
   "metadata": {},
   "outputs": [],
   "source": [
    "def load_data(datapath):\n",
    "    sentences = []\n",
    "    tags = []\n",
    "    with open(datapath) as f:\n",
    "        lines = f.readlines()\n",
    "        sentence = []\n",
    "        tag = []\n",
    "        for line in lines:\n",
    "            line = line.strip()  # Remove leading/trailing whitespace\n",
    "            if line:  # If the line is not empty\n",
    "                word, tag_label = line.split('\\t')\n",
    "                if vocab is not None:\n",
    "                    if word in vocab.keys():\n",
    "                        sentence.append(vocab[word])\n",
    "                    else:\n",
    "                        sentence.append(vocab['<oov>'])\n",
    "                if nertags is not None:\n",
    "                    tag.append(nertags[tag_label])\n",
    "            else:  # If the line is empty, indicating end of a sentence\n",
    "                if sentence:\n",
    "                    sentences.append(sentence)\n",
    "                    tags.append(tag)\n",
    "                    sentence = []\n",
    "                    tag = []\n",
    "\n",
    "    # Padding the sentences at the end\n",
    "    max_length = max(len(x) for x in sentences)\n",
    "    x_lengths = [len(x) for x in sentences]\n",
    "    X_test = []\n",
    "    Y_test = []\n",
    "    for sent, tag in zip(sentences, tags):\n",
    "        length_to_append = max_length - len(sent)\n",
    "        X_test.append(sent + [0] * length_to_append)  # Padding with zeros\n",
    "        Y_test.append(tag + [0] * length_to_append)  # Padding with zeros\n",
    "\n",
    "    X_test = torch.Tensor(X_test)\n",
    "    Y_test = torch.Tensor(Y_test)\n",
    "    x_lengths = torch.Tensor(x_lengths)\n",
    "\n",
    "    return X_test, Y_test, x_lengths\n"
   ]
  },
  {
   "cell_type": "code",
   "execution_count": 16,
   "metadata": {},
   "outputs": [],
   "source": [
    "testdatapath = 'data/altered_capitalization_swap_rate_0.1.txt'\n",
    "\n",
    "# Test dataset preparation\n",
    "Xtest, Ytest, x_testlengths = load_data(testdatapath)\n",
    "\n",
    "testdataset = TensorDataset(Xtest, Ytest, x_testlengths)\n",
    "loader_test = DataLoader(testdataset, batch_size=1, shuffle=False)\n",
    "\n",
    "# Output predictions\n",
    "out_predictions(model, loader_test, 'out/predictions_altered_capitalization_swap_rate_0.1.txt')"
   ]
  }
 ],
 "metadata": {
  "kernelspec": {
   "display_name": "base",
   "language": "python",
   "name": "python3"
  },
  "language_info": {
   "codemirror_mode": {
    "name": "ipython",
    "version": 3
   },
   "file_extension": ".py",
   "mimetype": "text/x-python",
   "name": "python",
   "nbconvert_exporter": "python",
   "pygments_lexer": "ipython3",
   "version": "3.11.5"
  }
 },
 "nbformat": 4,
 "nbformat_minor": 2
}
