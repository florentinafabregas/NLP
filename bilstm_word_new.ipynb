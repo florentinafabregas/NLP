{
 "cells": [
  {
   "cell_type": "markdown",
   "metadata": {},
   "source": [
    "### https://github.com/HarmanDotpy/Named-Entity-Recognition-in-Pytorch/blob/main/scripts/train_bilstm_char_random_glove.py"
   ]
  },
  {
   "cell_type": "code",
   "execution_count": 43,
   "metadata": {},
   "outputs": [],
   "source": [
    "import torch\n",
    "torch.manual_seed(10)\n",
    "import torch.nn as nn\n",
    "import torch.nn.functional as F\n",
    "import numpy as np\n",
    "import matplotlib.pyplot as plt\n",
    "from torch.nn.utils.rnn import pack_padded_sequence, pad_packed_sequence, pad_sequence\n",
    "from torch.utils.data import Dataset, DataLoader, TensorDataset\n",
    "import io\n",
    "import sklearn\n",
    "from sklearn.metrics import f1_score\n",
    "from sklearn.metrics import accuracy_score\n",
    "import pickle as pickle\n",
    "import warnings\n",
    "from sklearn.exceptions import UndefinedMetricWarning\n",
    "import seqeval\n",
    "from seqeval.metrics import accuracy_score as seq_accuracy_score\n",
    "from seqeval.metrics import classification_report as seq_classification_report\n",
    "from seqeval.metrics import f1_score as seq_f1_score\n",
    "import pandas as pd"
   ]
  },
  {
   "cell_type": "code",
   "execution_count": 44,
   "metadata": {},
   "outputs": [],
   "source": [
    "## BILSTM model\n",
    "\n",
    "class BiLSTM(nn.Module):\n",
    "    def __init__(self, embedding_size, hidden_size, total_words, num_class, pretrained = False, pretrained_embed = None):\n",
    "        super(BiLSTM, self).__init__()\n",
    "        self.hidden_size = hidden_size\n",
    "        self.wordembed = nn.Embedding.from_pretrained(pretrained_embed, freeze = False)\n",
    "        self.dropout = nn.Dropout(p = 0.5)\n",
    "        self.bilstm = nn.LSTM(embedding_size,hidden_size, bidirectional = True, batch_first = True)\n",
    "        self.linear = nn.Linear(2*hidden_size, num_class) # 2 because forward and backward concatenate\n",
    "\n",
    "    def forward(self, x, xlengths): \n",
    "        x = pack_padded_sequence(x, xlengths.cpu(), batch_first=True, enforce_sorted=False)\n",
    "        x, _ = pad_packed_sequence(x, batch_first=True)\n",
    "        word_embedding = self.wordembed(x) # x is of size(batchsize, seq_len), out is of size (batchsize, seq_len, embedding_size = 100)\n",
    "        # word_embedding = self.fcembed(word_embedding)\n",
    "        word_embedding = self.dropout(word_embedding) # dropout\n",
    "\n",
    "        out, (h,c) = self.bilstm(word_embedding) #'out' has dimension(batchsize, seq_len, 2*hidden_size)\n",
    "        out = self.linear(out) # now 'out' has dimension(batchsize, seq_len, num_class)\n",
    "        out = out.view(-1, out.shape[2]) # shape (128*seqlen, 18)\n",
    "        out = F.log_softmax(out, dim=1) # take the softmax across the dimension num_class, 'out' has dimension(batchsize, seq_len, num_class)\n",
    "        return out"
   ]
  },
  {
   "cell_type": "markdown",
   "metadata": {},
   "source": [
    "#### HELPER FUNCTIONS"
   ]
  },
  {
   "cell_type": "code",
   "execution_count": 81,
   "metadata": {},
   "outputs": [],
   "source": [
    "# reading text file in python and making list of sentences (list of lists) and list of tags(list of lists)\n",
    "def load_data(datapath, buildvocab_tags= True, vocab = None, nertags = None):\n",
    "    if(buildvocab_tags == True):\n",
    "        all_words = []\n",
    "        all_tags = []\n",
    "        with open(datapath) as f:\n",
    "            lines = f.readlines()\n",
    "            sent_num = 0\n",
    "            for line in lines[2:]: #1: so that the first blank line isn't taken into account\n",
    "                if(line == \"\\n\"):\n",
    "                    sent_num+=1\n",
    "                else:\n",
    "                    line_sep = line.split(sep = \" \")\n",
    "                    all_words.append(line_sep[0])\n",
    "                    all_tags.append(line_sep[3][:-1])\n",
    "                    \n",
    "        words = list(set(all_words))\n",
    "        tags = list(set(all_tags))\n",
    "\n",
    "        vocab = {}\n",
    "        vocab['<pad>'] = 0 # for padding input sequences\n",
    "        vocab['<oov>'] = 1\n",
    "        for i, word in enumerate(words):\n",
    "            vocab[word] = i+2\n",
    "            \n",
    "        nertags = {}\n",
    "        nertags['padtag'] = 0\n",
    "        for i,nertag in enumerate(tags):\n",
    "            nertags[nertag] = i+1\n",
    "\n",
    "    train_sent = []\n",
    "    train_tags = []\n",
    "    with open(datapath) as f:\n",
    "        lines = f.readlines()\n",
    "        sent_num = 0\n",
    "        sentence = []\n",
    "        tag = []\n",
    "        for line in lines[2:]: #1: so that the first blank line isn't taken into account\n",
    "            if(line == \"\\n\"):\n",
    "                sent_num+=1\n",
    "                train_sent.append(sentence)\n",
    "                train_tags.append(tag)\n",
    "                sentence = []\n",
    "                tag = []\n",
    "            else:\n",
    "                line_sep = line.split(sep = \" \")\n",
    "                if(line_sep[0] in vocab.keys()):\n",
    "                    sentence.append(vocab[line_sep[0]])\n",
    "                else:\n",
    "                    sentence.append(vocab['<oov>'])\n",
    "                    \n",
    "                tag.append(nertags[line_sep[3][:-1]])\n",
    "\n",
    "    # padding the sentences at the end\n",
    "    seq_maxlen = max(len(x) for x in train_sent)\n",
    "    x_lengths = [len(x) for x in train_sent]\n",
    "    Xtrain = []\n",
    "    Ytrain = []\n",
    "    for sent, tags in zip(train_sent, train_tags):\n",
    "        length_toappend = seq_maxlen - len(sent)\n",
    "        Xtrain.append(sent+[0]*length_toappend)\n",
    "        Ytrain.append(tags+[0]*length_toappend)\n",
    "\n",
    "\n",
    "    Xtrain = torch.Tensor(Xtrain)\n",
    "    Ytrain = torch.Tensor(Ytrain)\n",
    "    x_lengths = torch.Tensor(x_lengths)\n",
    "    print(Xtrain.shape, Ytrain.shape, x_lengths.shape)\n",
    "    \n",
    "    return Xtrain, Ytrain, x_lengths, vocab, nertags\n"
   ]
  },
  {
   "cell_type": "markdown",
   "metadata": {},
   "source": [
    "#### Loading data"
   ]
  },
  {
   "cell_type": "code",
   "execution_count": 46,
   "metadata": {},
   "outputs": [
    {
     "name": "stdout",
     "output_type": "stream",
     "text": [
      "torch.Size([14986, 113]) torch.Size([14986, 113]) torch.Size([14986])\n",
      "torch.Size([3465, 109]) torch.Size([3465, 109]) torch.Size([3465])\n"
     ]
    }
   ],
   "source": [
    "traindatapath = 'data/train.txt'\n",
    "devdatapath = 'data/dev.txt'\n",
    "testdatapath = 'data/test.txt'\n",
    "\n",
    "\n",
    "Xtrain, Ytrain, x_trainlengths, vocab, nertags = load_data(traindatapath, buildvocab_tags=True)\n",
    "Xdev, Ydev, x_devlengths, _, _ = load_data(devdatapath, buildvocab_tags=False, vocab = vocab, nertags = nertags)"
   ]
  },
  {
   "cell_type": "code",
   "execution_count": 47,
   "metadata": {},
   "outputs": [],
   "source": [
    "traindataset = TensorDataset(Xtrain, Ytrain, x_trainlengths)\n",
    "Trainloader = DataLoader(traindataset, batch_size= 128, shuffle=True)\n",
    "\n",
    "devdataset = TensorDataset(Xdev, Ydev, x_devlengths)\n",
    "Devloader = DataLoader(devdataset, batch_size= 128, shuffle=True)"
   ]
  },
  {
   "cell_type": "code",
   "execution_count": 48,
   "metadata": {},
   "outputs": [],
   "source": [
    "# DEFINE MY MODEL!!! \n",
    "\n",
    "pre_embeddings = 'glove'\n",
    "Expname = 'BILSTM_glove'\n",
    "rootpath = 'out/'\n",
    "glove_embeddings_file = 'data/glove.6B.100d.txt'"
   ]
  },
  {
   "cell_type": "code",
   "execution_count": 49,
   "metadata": {},
   "outputs": [],
   "source": [
    "if torch.cuda.is_available():  \n",
    "    device = \"cuda:0\" \n",
    "else:  \n",
    "    device = \"cpu\"  "
   ]
  },
  {
   "cell_type": "code",
   "execution_count": 50,
   "metadata": {},
   "outputs": [],
   "source": [
    "# LOAD EMBEDDINGS\n",
    "embedding_size = 100\n",
    "if(pre_embeddings == \"glove\"):\n",
    "    gloveembeddings_index = {}\n",
    "    with io.open(glove_embeddings_file, encoding='utf8') as f:\n",
    "        for line in f:\n",
    "            values = line.split()\n",
    "            word = values[0]\n",
    "            coefs = np.asarray(values[1:],dtype='float32')\n",
    "            gloveembeddings_index[word] = coefs\n",
    "\n",
    "    #using vocab and Xtrain, Xvalid, get pretrained glove word embeddings\n",
    "    glove_embeds = np.zeros((len(vocab), embedding_size))\n",
    "    for word in vocab.keys():\n",
    "        if(word in gloveembeddings_index.keys()):\n",
    "            # for the pad word let theembedding be all zeros\n",
    "            glove_embeds[vocab[word]] = gloveembeddings_index[word]\n",
    "        else:\n",
    "            glove_embeds[vocab[word]] = np.random.randn(embedding_size)\n",
    "    word_embeds = torch.Tensor(glove_embeds)\n",
    "    # print(glove_embeds.shape) # shape (vocablength , embedding dim)\n"
   ]
  },
  {
   "cell_type": "code",
   "execution_count": 51,
   "metadata": {},
   "outputs": [],
   "source": [
    "# classes to be looked at for performance metrics\n",
    "imp_classes = [nertags[tag] for tag in nertags.keys()]\n",
    "imp_classes.remove(nertags['padtag'])\n",
    "imp_classes.remove(nertags['O'])"
   ]
  },
  {
   "cell_type": "code",
   "execution_count": 52,
   "metadata": {},
   "outputs": [],
   "source": [
    "model = BiLSTM(embedding_size = 100, hidden_size = 100, total_words = len(vocab), num_class = len(nertags), pretrained = True, pretrained_embed = word_embeds).to(device)\n",
    "optimizer = torch.optim.Adam(model.parameters(), lr = 0.01)\n",
    "lossfunction = nn.CrossEntropyLoss()"
   ]
  },
  {
   "cell_type": "code",
   "execution_count": 53,
   "metadata": {},
   "outputs": [],
   "source": [
    "def performance(y, ypred, nertags):\n",
    "    y = y.numpy()\n",
    "    ypred = ypred.numpy()\n",
    "    mask = (y != nertags['padtag']) * (y != nertags['O'])\n",
    "    y = y*mask\n",
    "    ypred = ypred*mask\n",
    "    acc = ((y==ypred)*mask).sum()/mask.sum()\n",
    "    microf1 = f1_score(y, ypred, labels = imp_classes, average='micro')\n",
    "    macrof1 = f1_score(y, ypred, labels = imp_classes, average='macro')\n",
    "\n",
    "    return acc, microf1, macrof1"
   ]
  },
  {
   "cell_type": "code",
   "execution_count": 54,
   "metadata": {},
   "outputs": [],
   "source": [
    "def validate(model, loader):\n",
    "        with torch.no_grad():\n",
    "            validloss = 0\n",
    "            acc = 0\n",
    "            microf1 = 0\n",
    "            macrof1 = 0\n",
    "            i = 0\n",
    "            for step, (X, Y, xlen) in enumerate(loader):\n",
    "                Y = pack_padded_sequence(Y, xlen, batch_first=True, enforce_sorted=False)\n",
    "                Y, _ = pad_packed_sequence(Y, batch_first=True)\n",
    "                ypred = model(X.long().to(device), xlen.to(device))#.permute(0, 2, 1)\n",
    "                vloss = lossfunction(ypred.to('cpu'), Y.view(-1).type(torch.LongTensor))\n",
    "                validloss+=vloss.item()\n",
    "                acc_, microf1_, macrof1_ = performance(Y.view(-1), torch.argmax(ypred.to('cpu'), dim = 1), nertags)\n",
    "                acc+=acc_\n",
    "                microf1 += microf1_\n",
    "                macrof1 += macrof1_\n",
    "                i+=1\n",
    "\n",
    "        return validloss/i, acc/i, microf1/i, macrof1/i"
   ]
  },
  {
   "cell_type": "code",
   "execution_count": 55,
   "metadata": {},
   "outputs": [],
   "source": [
    "trainlosslist = []\n",
    "trainacclist = []\n",
    "trainmicrof1list = []\n",
    "trainmacrof1list = []\n",
    "\n",
    "validlosslist = []\n",
    "valacclist = []\n",
    "valmicrof1list = []\n",
    "valmacrof1list = []"
   ]
  },
  {
   "cell_type": "code",
   "execution_count": 73,
   "metadata": {},
   "outputs": [
    {
     "name": "stdout",
     "output_type": "stream",
     "text": [
      "training accuracy = 0.9705395665173524, microF1 = 0.9759409986889355, macroF1 = 0.9668993079017264\n",
      "training accuracy = 0.9713021428052855, microF1 = 0.9764773525670124, macroF1 = 0.9686703757666425\n",
      "training accuracy = 0.969046301756781, microF1 = 0.974298244926513, macroF1 = 0.9668866153570084\n",
      "training accuracy = 0.9682213645570705, microF1 = 0.9735829926050069, macroF1 = 0.9659688234845565\n",
      "training accuracy = 0.9688201387671389, microF1 = 0.9742000792062591, macroF1 = 0.9669517318400818\n",
      "\n",
      "epoch = 0, training_loss = 0.0059711401936819114, validation_loss =0.05561547114380768, training_acc = 0.9682280837383773, validation_acc =0.811799442128865\n",
      "training accuracy = 0.9689954375995278, microF1 = 0.9741614909234774, macroF1 = 0.9633264679763927\n",
      "training accuracy = 0.9703555731364956, microF1 = 0.9754709777575805, macroF1 = 0.9677807895376281\n",
      "training accuracy = 0.9707369968098122, microF1 = 0.9757602196455846, macroF1 = 0.9685754896913688\n",
      "training accuracy = 0.9707096718794264, microF1 = 0.9756171465552116, macroF1 = 0.9688434564040321\n",
      "training accuracy = 0.970059692088097, microF1 = 0.9751271730038447, macroF1 = 0.9676432624958865\n",
      "\n",
      "epoch = 1, training_loss = 0.005493458089126684, validation_loss =0.05114352649876049, training_acc = 0.9701894595123073, validation_acc =0.8089666682532298\n",
      "training accuracy = 0.9696498890940768, microF1 = 0.9747465310722044, macroF1 = 0.9677536439801917\n",
      "training accuracy = 0.9701164712824234, microF1 = 0.975031309728625, macroF1 = 0.9680496409560366\n",
      "training accuracy = 0.971638902400131, microF1 = 0.9761644816088716, macroF1 = 0.9693821387484045\n",
      "training accuracy = 0.9716662396483565, microF1 = 0.9763654891334589, macroF1 = 0.9693425789404158\n",
      "training accuracy = 0.9724773924843266, microF1 = 0.9771713839337255, macroF1 = 0.970040652772659\n",
      "\n",
      "epoch = 2, training_loss = 0.005604520702529383, validation_loss =0.05135299724393657, training_acc = 0.9717324833136902, validation_acc =0.8052608189509588\n",
      "training accuracy = 0.9735425339485553, microF1 = 0.9780806047978963, macroF1 = 0.972699672262191\n",
      "training accuracy = 0.9728363521668272, microF1 = 0.977561878891736, macroF1 = 0.9724114743703859\n",
      "training accuracy = 0.970649661257819, microF1 = 0.9759284579408329, macroF1 = 0.9683129899107368\n",
      "training accuracy = 0.9719195983086544, microF1 = 0.9770300951281488, macroF1 = 0.9696194091226942\n",
      "training accuracy = 0.9709670996970857, microF1 = 0.9762024757349638, macroF1 = 0.9687230274736829\n",
      "\n",
      "epoch = 3, training_loss = 0.005237664235163859, validation_loss =0.057327570393681526, training_acc = 0.9715209549952383, validation_acc =0.8089074333709599\n",
      "training accuracy = 0.9731757438437333, microF1 = 0.9775496707353223, macroF1 = 0.9695760964556186\n",
      "training accuracy = 0.9756797802162581, microF1 = 0.9797851747280727, macroF1 = 0.9708866408983184\n",
      "training accuracy = 0.9755117581041564, microF1 = 0.9795299953778954, macroF1 = 0.9691735247978831\n",
      "training accuracy = 0.9745840894036506, microF1 = 0.9787531537754923, macroF1 = 0.9683194416992152\n",
      "training accuracy = 0.9751725055045793, microF1 = 0.9793749737362287, macroF1 = 0.9700297559523514\n",
      "\n",
      "epoch = 4, training_loss = 0.004692961371077572, validation_loss =0.05516510057662215, training_acc = 0.9746601445534305, validation_acc =0.8008010993257615\n",
      "training accuracy = 0.9750146152397473, microF1 = 0.9792959466435956, macroF1 = 0.9737924692114641\n",
      "training accuracy = 0.9758379001914388, microF1 = 0.9798495539727047, macroF1 = 0.974215982251637\n",
      "training accuracy = 0.9748934454175688, microF1 = 0.9787973150713402, macroF1 = 0.9730101739028927\n",
      "training accuracy = 0.9749834627432854, microF1 = 0.9790306052610952, macroF1 = 0.974011323133639\n",
      "training accuracy = 0.9747739092215173, microF1 = 0.9788729667556786, macroF1 = 0.9730699861946633\n",
      "\n",
      "epoch = 5, training_loss = 0.004610147781993689, validation_loss =0.05379026649253709, training_acc = 0.9747480191332587, validation_acc =0.8150532030302002\n",
      "training accuracy = 0.974455549854607, microF1 = 0.978943637313975, macroF1 = 0.9731249205852124\n",
      "training accuracy = 0.9748259347394359, microF1 = 0.9793690425491556, macroF1 = 0.9727434921448516\n",
      "training accuracy = 0.973923100942037, microF1 = 0.9784959000720436, macroF1 = 0.9714972502121004\n",
      "training accuracy = 0.9744643792974524, microF1 = 0.9790857881297623, macroF1 = 0.9724771942180278\n",
      "training accuracy = 0.9736603240253853, microF1 = 0.9782904989550114, macroF1 = 0.9715176866573002\n",
      "\n",
      "epoch = 6, training_loss = 0.004829438190149553, validation_loss =0.06643742283007928, training_acc = 0.9735432830238098, validation_acc =0.8035148775148947\n",
      "training accuracy = 0.9764214804681858, microF1 = 0.9815243200708662, macroF1 = 0.9742631320466673\n",
      "training accuracy = 0.9778709737942526, microF1 = 0.9822783186399284, macroF1 = 0.9770136052458793\n",
      "training accuracy = 0.9771891994533612, microF1 = 0.9813429920855186, macroF1 = 0.9756648847096231\n",
      "training accuracy = 0.9761425244479336, microF1 = 0.9806091510877734, macroF1 = 0.9736182656910005\n",
      "training accuracy = 0.9762025333138383, microF1 = 0.9804977232091324, macroF1 = 0.9733504183239275\n",
      "\n",
      "epoch = 7, training_loss = 0.004355484625656094, validation_loss =0.05256893026775548, training_acc = 0.976659079326437, validation_acc =0.8099592019543321\n",
      "training accuracy = 0.976483142379107, microF1 = 0.9808708636765937, macroF1 = 0.9779652264825419\n",
      "training accuracy = 0.9758617836621484, microF1 = 0.9800477941193939, macroF1 = 0.9732132886593374\n",
      "training accuracy = 0.9759381708551215, microF1 = 0.9802548295379686, macroF1 = 0.9736284334013434\n",
      "training accuracy = 0.975707520705935, microF1 = 0.9799440350986238, macroF1 = 0.9726309148377286\n",
      "training accuracy = 0.9750381407507963, microF1 = 0.9793922451832734, macroF1 = 0.9726714101680157\n",
      "\n",
      "epoch = 8, training_loss = 0.004478637801909472, validation_loss =0.052752218541822264, training_acc = 0.9754602624180015, validation_acc =0.8138104681655042\n",
      "training accuracy = 0.9801905496857772, microF1 = 0.9834256534746937, macroF1 = 0.9779701889353816\n",
      "training accuracy = 0.9809430989478922, microF1 = 0.9844569614359914, macroF1 = 0.9806272158692492\n",
      "training accuracy = 0.9791968155874231, microF1 = 0.9829913617283292, macroF1 = 0.978344336065194\n",
      "training accuracy = 0.9785146356341251, microF1 = 0.9821969542789336, macroF1 = 0.9773016701877887\n",
      "training accuracy = 0.9783773217097909, microF1 = 0.9820227582252194, macroF1 = 0.9771117768353464\n",
      "\n",
      "epoch = 9, training_loss = 0.003971954453460304, validation_loss =0.05423588325668659, training_acc = 0.9788406429315027, validation_acc =0.8125493923601176\n"
     ]
    }
   ],
   "source": [
    "# Model is ready now we have to train using cross entropy loss\n",
    "num_epochs = 10\n",
    "\n",
    "warnings.filterwarnings(\"ignore\", category=UndefinedMetricWarning)\n",
    "\n",
    "# validloss = []\n",
    "model.train()\n",
    "for epoch in range(num_epochs):\n",
    "    #if(epoch == 8):\n",
    "     #   optimizer = torch.optim.Adam(model.parameters(), lr = 0.001)\n",
    "        \n",
    "    totalloss, acc, microf1, macrof1 = 0, 0, 0, 0\n",
    "    for step, (Xbatch ,Ybatch, xbatch_len) in enumerate(Trainloader):\n",
    "        #make gradients 0\n",
    "        optimizer.zero_grad()\n",
    "\n",
    "        Ybatch = pack_padded_sequence(Ybatch, xbatch_len, batch_first=True, enforce_sorted=False)\n",
    "        Ybatch, y_lengths = pad_packed_sequence(Ybatch, batch_first=True)\n",
    "\n",
    "        #get output from model and claculate loss\n",
    "        ypred = model(Xbatch.long().to(device), xbatch_len.to(device))#.permute(0, 2, 1)\n",
    "        \n",
    "        acc_, microf1_, macrof1_ = performance(Ybatch.view(-1), torch.argmax(ypred.to('cpu'), dim = 1), nertags)\n",
    "        acc+= acc_\n",
    "        microf1+=microf1_\n",
    "        macrof1+=macrof1_\n",
    "        if(step%20 == 0 and step !=0):\n",
    "            print(\"training accuracy = {}, microF1 = {}, macroF1 = {}\".format(acc/(step+1), microf1/(step+1), macrof1/(step+1)))\n",
    "            \n",
    "        loss = lossfunction(ypred.to('cpu'), Ybatch.view(-1).type(torch.LongTensor)) #Ybatch has dimension (batchsize, seqlen), ypred has dimension(batchsize, num_classes, seqlen)\n",
    "        totalloss += loss.item()\n",
    "\n",
    "        #backward and step\n",
    "        loss.backward()\n",
    "        nn.utils.clip_grad_norm_(model.parameters(), 5) # clip gradient to 5\n",
    "        optimizer.step()\n",
    "        \n",
    "    trainlosslist.append(totalloss/(step+1))\n",
    "    trainacclist.append(acc/(step+1))\n",
    "    trainmicrof1list.append(microf1/(step+1))\n",
    "    trainmacrof1list.append(macrof1/(step+1))\n",
    "\n",
    "    # model validation loss and scheduler step for learning rate change if required\n",
    "    val_loss, val_acc, val_microf1, val_macrof1  = validate(model, Devloader)\n",
    "    validlosslist.append(val_loss)\n",
    "    valacclist.append(val_acc)\n",
    "    valmicrof1list.append(val_microf1)\n",
    "    valmacrof1list.append(val_macrof1)\n",
    "        \n",
    "    # scheduler.step(val_loss)\n",
    "    print('\\nepoch = {}, training_loss = {}, validation_loss ={}, training_acc = {}, validation_acc ={}'.format(epoch, trainlosslist[-1], validlosslist[-1], trainacclist[-1], valacclist[-1]))        \n",
    "    "
   ]
  },
  {
   "cell_type": "code",
   "execution_count": 74,
   "metadata": {},
   "outputs": [],
   "source": [
    "id2word = {id: word for word, id in vocab.items()} \n",
    "id2tag = {}\n",
    "for tag in nertags.keys():\n",
    "    if(tag == 'padtag'):\n",
    "         id2tag[nertags[tag]] = 'O' \n",
    "    else:\n",
    "        id2tag[nertags[tag]] = tag"
   ]
  },
  {
   "cell_type": "code",
   "execution_count": 75,
   "metadata": {},
   "outputs": [
    {
     "data": {
      "text/plain": [
       "BiLSTM(\n",
       "  (wordembed): Embedding(23626, 100)\n",
       "  (dropout): Dropout(p=0.5, inplace=False)\n",
       "  (bilstm): LSTM(100, 100, batch_first=True, bidirectional=True)\n",
       "  (linear): Linear(in_features=200, out_features=10, bias=True)\n",
       ")"
      ]
     },
     "execution_count": 75,
     "metadata": {},
     "output_type": "execute_result"
    }
   ],
   "source": [
    "model.eval()"
   ]
  },
  {
   "cell_type": "code",
   "execution_count": 76,
   "metadata": {},
   "outputs": [],
   "source": [
    "import os\n",
    "if not os.path.exists(rootpath):\n",
    "       os.mkdir(rootpath)\n",
    "\n",
    "if not os.path.exists(rootpath+Expname):\n",
    "    os.mkdir(rootpath+Expname)"
   ]
  },
  {
   "cell_type": "code",
   "execution_count": 82,
   "metadata": {},
   "outputs": [],
   "source": [
    "def final_metrics(model,loader):\n",
    "    y_predicted = []\n",
    "    y_true = []\n",
    "    with torch.no_grad():\n",
    "        for step, (X, Y, xlen) in enumerate(loader):\n",
    "            Y = pack_padded_sequence(Y, xlen, batch_first=True, enforce_sorted=False)\n",
    "            Y, _ = pad_packed_sequence(Y, batch_first=True)\n",
    "            ypred = model(X.long().to(device), xlen.to(device))#.permute(0, 2, 1)\n",
    "            ypred = torch.argmax(ypred.to('cpu'), dim = 1)\n",
    "            ypred = ypred.view(Y.shape[0], -1)\n",
    "            y_predicted.append(ypred)\n",
    "            y_true.append(Y)\n",
    "\n",
    "    y_predicted_list = []\n",
    "    y_true_list = []\n",
    "    for i in range(len(y_predicted)):\n",
    "        for j in range(y_predicted[i].shape[0]):\n",
    "            sent_pred = []\n",
    "            sent_true = []\n",
    "            for x in range(y_predicted[i].shape[1]):\n",
    "                sent_pred.append(id2tag[int(y_predicted[i][j, x])])\n",
    "                sent_true.append(id2tag[int(y_true[i][j, x])])\n",
    "            y_predicted_list.append(sent_pred)\n",
    "            y_true_list.append(sent_true)\n",
    "    \n",
    "    return seq_f1_score(y_true_list, y_predicted_list), seq_accuracy_score(y_true_list, y_predicted_list), seq_classification_report(y_true_list, y_predicted_list, digits = 3)"
   ]
  },
  {
   "cell_type": "code",
   "execution_count": 83,
   "metadata": {},
   "outputs": [
    {
     "name": "stdout",
     "output_type": "stream",
     "text": [
      "torch.Size([3683, 124]) torch.Size([3683, 124]) torch.Size([3683])\n",
      "PERFORMANCE ON Test DATA\n",
      "MicroF1 = 0.7276116091239903\n",
      "Accuracy = 0.9392264009428908\n",
      "------------Classification Report-------------\n",
      "              precision    recall  f1-score   support\n",
      "\n",
      "         LOC      0.880     0.775     0.824      1668\n",
      "        MISC      0.721     0.681     0.700       702\n",
      "         ORG      0.804     0.609     0.693      1661\n",
      "         PER      0.591     0.814     0.685      1617\n",
      "\n",
      "   micro avg      0.729     0.726     0.728      5648\n",
      "   macro avg      0.749     0.720     0.726      5648\n",
      "weighted avg      0.755     0.726     0.730      5648\n",
      "\n"
     ]
    }
   ],
   "source": [
    "#Test DATASET\n",
    "Xtest, Ytest, x_testlengths, _, _ = load_data(testdatapath, buildvocab_tags=False, vocab = vocab, nertags = nertags)\n",
    "\n",
    "testdataset = TensorDataset(Xtest, Ytest, x_testlengths)\n",
    "loader_test = DataLoader(testdataset, batch_size= 1, shuffle=False)\n",
    "test_f1_conll, test_acc_conll, test_classif_report = final_metrics(model, loader_test)\n",
    "\n",
    "print(\"PERFORMANCE ON Test DATA\")\n",
    "print('MicroF1 = {}'.format(test_f1_conll))\n",
    "print('Accuracy = {}'.format(test_acc_conll))\n",
    "print('------------Classification Report-------------')\n",
    "print(test_classif_report)"
   ]
  },
  {
   "cell_type": "code",
   "execution_count": 84,
   "metadata": {},
   "outputs": [],
   "source": [
    "def out_predictions(model, loader, output_file):\n",
    "    with open(output_file, 'w') as f:\n",
    "        with torch.no_grad():\n",
    "            for step, (X, Y, xlen) in enumerate(loader):\n",
    "                Y = pack_padded_sequence(Y, xlen, batch_first=True, enforce_sorted=False)\n",
    "                Y, _ = pad_packed_sequence(Y, batch_first=True)\n",
    "                ypred = model(X.long().to(device), xlen.to(device))\n",
    "                ypred = torch.argmax(ypred.to('cpu'), dim=1)\n",
    "                ypred = ypred.view(Y.shape[0], -1)\n",
    "                for i in range(len(ypred)):\n",
    "                    for j in range(len(ypred[i])):\n",
    "                        word = id2word[int(X[i, j])]\n",
    "                        tag = id2tag[int(ypred[i, j])]\n",
    "                        f.write(f\"{word}\\t{tag}\\n\")\n",
    "                    f.write('\\n')"
   ]
  },
  {
   "cell_type": "code",
   "execution_count": 85,
   "metadata": {},
   "outputs": [],
   "source": [
    "out_predictions(model, loader_test, 'predictions/gold_bilstm_word3.txt')"
   ]
  },
  {
   "cell_type": "code",
   "execution_count": 86,
   "metadata": {},
   "outputs": [],
   "source": [
    "# SPAN-F1 SCORE\n",
    "\n",
    "def readBIO(path):\n",
    "    ents = []\n",
    "    curEnts = []\n",
    "    for line in open(path):\n",
    "        line = line.strip()\n",
    "        if line == '':\n",
    "            ents.append(curEnts)\n",
    "            curEnts = []\n",
    "        elif line[0] == '#' and len(line.split('\\t')) == 1:\n",
    "            continue\n",
    "        else:\n",
    "            curEnts.append(line.split('\\t')[1])\n",
    "    return ents\n",
    "\n",
    "def toSpans(tags):\n",
    "    spans = set()\n",
    "    for beg in range(len(tags)):\n",
    "        if tags[beg][0] == 'B':\n",
    "            end = beg\n",
    "            for end in range(beg+1, len(tags)):\n",
    "                if tags[end][0] != 'I':\n",
    "                    break\n",
    "            spans.add(str(beg) + '-' + str(end) + ':' + tags[beg][2:])\n",
    "            #print(end-beg)\n",
    "    return spans\n",
    "\n",
    "def getInstanceScores(predPath, goldPath):\n",
    "    goldEnts = readBIO(goldPath)\n",
    "    predEnts = readBIO(predPath)\n",
    "    entScores = []\n",
    "    tp = 0\n",
    "    fp = 0\n",
    "    fn = 0\n",
    "    for goldEnt, predEnt in zip(goldEnts, predEnts):\n",
    "        goldSpans = toSpans(goldEnt)\n",
    "        predSpans = toSpans(predEnt)\n",
    "        overlap = len(goldSpans.intersection(predSpans))\n",
    "        tp += overlap\n",
    "        fp += len(predSpans) - overlap\n",
    "        fn += len(goldSpans) - overlap\n",
    "        \n",
    "    prec = 0.0 if tp+fp == 0 else tp/(tp+fp)\n",
    "    rec = 0.0 if tp+fn == 0 else tp/(tp+fn)\n",
    "    f1 = 0.0 if prec+rec == 0.0 else 2 * (prec * rec) / (prec + rec)\n",
    "    return f1"
   ]
  },
  {
   "cell_type": "code",
   "execution_count": 87,
   "metadata": {},
   "outputs": [],
   "source": [
    "pred = 'predictions/gold_bilstm_word3.txt'\n",
    "gold = 'data/gold.txt'"
   ]
  },
  {
   "cell_type": "code",
   "execution_count": 88,
   "metadata": {},
   "outputs": [
    {
     "name": "stdout",
     "output_type": "stream",
     "text": [
      "Span-F1 score - word-biLSTM  0.7551676619200735\n"
     ]
    }
   ],
   "source": [
    "score = getInstanceScores(pred,gold)\n",
    "print('Span-F1 score - word-biLSTM ', score)"
   ]
  },
  {
   "cell_type": "markdown",
   "metadata": {},
   "source": [
    "#### NOISE"
   ]
  },
  {
   "cell_type": "code",
   "execution_count": 89,
   "metadata": {},
   "outputs": [],
   "source": [
    "def load_test_data(datapath):\n",
    "    sentences = []\n",
    "    tags = []\n",
    "    with open(datapath) as f:\n",
    "        lines = f.readlines()\n",
    "        sentence = []\n",
    "        tag = []\n",
    "        for line in lines:\n",
    "            line = line.strip()  # Remove leading/trailing whitespace\n",
    "            if line:  # If the line is not empty\n",
    "                word, tag_label = line.split('\\t')\n",
    "                if vocab is not None:\n",
    "                    if word in vocab.keys():\n",
    "                        sentence.append(vocab[word])\n",
    "                    else:\n",
    "                        sentence.append(vocab['<oov>'])\n",
    "                if nertags is not None:\n",
    "                    tag.append(nertags[tag_label])\n",
    "            else:  # If the line is empty, indicating end of a sentence\n",
    "                if sentence:\n",
    "                    sentences.append(sentence)\n",
    "                    tags.append(tag)\n",
    "                    sentence = []\n",
    "                    tag = []\n",
    "\n",
    "    # Padding the sentences at the end\n",
    "    max_length = max(len(x) for x in sentences)\n",
    "    x_lengths = [len(x) for x in sentences]\n",
    "    X_test = []\n",
    "    Y_test = []\n",
    "    for sent, tag in zip(sentences, tags):\n",
    "        length_to_append = max_length - len(sent)\n",
    "        X_test.append(sent + [0] * length_to_append)  # Padding with zeros\n",
    "        Y_test.append(tag + [0] * length_to_append)  # Padding with zeros\n",
    "\n",
    "    X_test = torch.Tensor(X_test)\n",
    "    Y_test = torch.Tensor(Y_test)\n",
    "    x_lengths = torch.Tensor(x_lengths)\n",
    "\n",
    "    return X_test, Y_test, x_lengths\n"
   ]
  },
  {
   "cell_type": "code",
   "execution_count": 90,
   "metadata": {},
   "outputs": [],
   "source": [
    "noise_rates = {\n",
    "    'capitalization_swap': [0.1, 0.15, 0.2, 0.25, 0.3], \n",
    "    'character_swap': [0.1, 0.15, 0.2, 0.25, 0.3],\n",
    "    'character_removal': [0.1, 0.15, 0.2, 0.25, 0.3],\n",
    "    'character_replacement': [0.1, 0.15, 0.2, 0.25, 0.3]\n",
    "}"
   ]
  },
  {
   "cell_type": "code",
   "execution_count": 91,
   "metadata": {},
   "outputs": [],
   "source": [
    "def loader_test(testdatapath):\n",
    "    Xtest, Ytest, x_testlengths = load_test_data(testdatapath)\n",
    "\n",
    "    testdataset = TensorDataset(Xtest, Ytest, x_testlengths)\n",
    "    loader_test = DataLoader(testdataset, batch_size=1, shuffle=False)\n",
    "    return loader_test"
   ]
  },
  {
   "cell_type": "code",
   "execution_count": 92,
   "metadata": {},
   "outputs": [
    {
     "name": "stdout",
     "output_type": "stream",
     "text": [
      "               Noise Type  Noise Rate  F1 Score\n",
      "0     capitalization_swap        0.10  0.690082\n",
      "1     capitalization_swap        0.15  0.652507\n",
      "2     capitalization_swap        0.20  0.628815\n",
      "3     capitalization_swap        0.25  0.598346\n",
      "4     capitalization_swap        0.30  0.569720\n",
      "5          character_swap        0.10  0.715556\n",
      "6          character_swap        0.15  0.549860\n",
      "7          character_swap        0.20  0.381871\n",
      "8          character_swap        0.25  0.318514\n",
      "9          character_swap        0.30  0.304601\n",
      "10      character_removal        0.10  0.710736\n",
      "11      character_removal        0.15  0.520597\n",
      "12      character_removal        0.20  0.317655\n",
      "13      character_removal        0.25  0.259942\n",
      "14      character_removal        0.30  0.259981\n",
      "15  character_replacement        0.10  0.714078\n",
      "16  character_replacement        0.15  0.520380\n",
      "17  character_replacement        0.20  0.317993\n",
      "18  character_replacement        0.25  0.251981\n",
      "19  character_replacement        0.30  0.251503\n"
     ]
    }
   ],
   "source": [
    "noise_types = []\n",
    "noise_rate = []\n",
    "f1_scores = []\n",
    "\n",
    "for noise_type in noise_rates.keys():\n",
    "    for rate in noise_rates[noise_type]:\n",
    "        my_loader = loader_test(f'data/altered/{noise_type}_rate_{rate}.txt')\n",
    "        out_predictions(model, my_loader, f'predictions/word3/{noise_type}_rate_{rate}.txt')\n",
    "        score = getInstanceScores(f'predictions/word3/{noise_type}_rate_{rate}.txt', 'data/gold.txt')\n",
    "        \n",
    "        # Append data to lists\n",
    "        noise_types.append(noise_type)\n",
    "        noise_rate.append(rate)\n",
    "        f1_scores.append(score)\n",
    "\n",
    "data = {'Noise Type': noise_types, 'Noise Rate': noise_rate, 'F1 Score': f1_scores}\n",
    "df = pd.DataFrame(data)\n",
    "print(df)"
   ]
  },
  {
   "cell_type": "code",
   "execution_count": 93,
   "metadata": {},
   "outputs": [],
   "source": [
    "df.to_csv('out/df_noise_word3.csv', index=False)"
   ]
  },
  {
   "cell_type": "code",
   "execution_count": 72,
   "metadata": {},
   "outputs": [],
   "source": [
    "# Save the trained model's state dictionary\n",
    "torch.save(model.state_dict(), 'models/bilstm_word/model_bilst_word.pth')\n",
    "\n",
    "# Save the dictionaries\n",
    "with open('models/bilstm_word/id2word.pkl', 'wb') as f:\n",
    "    pickle.dump(id2word, f)\n",
    "with open('models/bilstm_word/id2tag.pkl', 'wb') as f:\n",
    "    pickle.dump(id2tag, f)\n",
    "with open('models/bilstm_word/vocab.pkl', 'wb') as f:\n",
    "    pickle.dump(vocab, f)\n",
    "with open('models/bilstm_word/nertags.pkl', 'wb') as f:\n",
    "    pickle.dump(nertags, f)"
   ]
  },
  {
   "cell_type": "markdown",
   "metadata": {},
   "source": [
    "#### Altered_2"
   ]
  },
  {
   "cell_type": "code",
   "execution_count": 96,
   "metadata": {},
   "outputs": [],
   "source": [
    "noise_rates = {\n",
    "    'capitalization_swap': [0, 0.1, 0.2, 0.3, 0.4],  # Adjust the rates as needed\n",
    "    'character_swap': [0, 0.05, 0.075, 0.1, 0.125, 0.15, 0.17, 0.2],\n",
    "    'character_removal': [0, 0.05, 0.075, 0.1, 0.125, 0.15, 0.17, 0.2],\n",
    "    'character_replacement': [0, 0.05, 0.075, 0.1, 0.125, 0.15, 0.17, 0.2]\n",
    "}"
   ]
  },
  {
   "cell_type": "code",
   "execution_count": 97,
   "metadata": {},
   "outputs": [
    {
     "name": "stdout",
     "output_type": "stream",
     "text": [
      "               Noise Type  Noise Rate  F1 Score\n",
      "0     capitalization_swap       0.000  0.755168\n",
      "1     capitalization_swap       0.100  0.691408\n",
      "2     capitalization_swap       0.200  0.620485\n",
      "3     capitalization_swap       0.300  0.571056\n",
      "4     capitalization_swap       0.400  0.509348\n",
      "5          character_swap       0.000  0.755168\n",
      "6          character_swap       0.050  0.755168\n",
      "7          character_swap       0.075  0.754571\n",
      "8          character_swap       0.100  0.715233\n",
      "9          character_swap       0.125  0.636414\n",
      "10         character_swap       0.150  0.552861\n",
      "11         character_swap       0.170  0.467537\n",
      "12         character_swap       0.200  0.383893\n",
      "13      character_removal       0.000  0.755168\n",
      "14      character_removal       0.050  0.755168\n",
      "15      character_removal       0.075  0.754641\n",
      "16      character_removal       0.100  0.711462\n",
      "17      character_removal       0.125  0.616622\n",
      "18      character_removal       0.150  0.521275\n",
      "19      character_removal       0.170  0.412270\n",
      "20      character_removal       0.200  0.323496\n",
      "21  character_replacement       0.000  0.755168\n",
      "22  character_replacement       0.050  0.755168\n",
      "23  character_replacement       0.075  0.754641\n",
      "24  character_replacement       0.100  0.714676\n",
      "25  character_replacement       0.125  0.616842\n",
      "26  character_replacement       0.150  0.520584\n",
      "27  character_replacement       0.170  0.410096\n",
      "28  character_replacement       0.200  0.318529\n"
     ]
    }
   ],
   "source": [
    "noise_types = []\n",
    "noise_rate = []\n",
    "f1_scores = []\n",
    "\n",
    "for noise_type in noise_rates.keys():\n",
    "    for rate in noise_rates[noise_type]:\n",
    "        my_loader = loader_test(f'data/altered_2/{noise_type}_rate_{rate}.txt')\n",
    "        out_predictions(model, my_loader, f'predictions/altered_2/word/{noise_type}_rate_{rate}.txt')\n",
    "        score = getInstanceScores(f'predictions/altered_2/word/{noise_type}_rate_{rate}.txt', 'data/gold.txt')\n",
    "        \n",
    "        # Append data to lists\n",
    "        noise_types.append(noise_type)\n",
    "        noise_rate.append(rate)\n",
    "        f1_scores.append(score)\n",
    "\n",
    "data = {'Noise Type': noise_types, 'Noise Rate': noise_rate, 'F1 Score': f1_scores}\n",
    "df = pd.DataFrame(data)\n",
    "print(df)"
   ]
  },
  {
   "cell_type": "code",
   "execution_count": 98,
   "metadata": {},
   "outputs": [],
   "source": [
    "df.to_csv('out/altered_2_word.csv', index=False)"
   ]
  },
  {
   "cell_type": "code",
   "execution_count": null,
   "metadata": {},
   "outputs": [],
   "source": []
  }
 ],
 "metadata": {
  "kernelspec": {
   "display_name": "base",
   "language": "python",
   "name": "python3"
  },
  "language_info": {
   "codemirror_mode": {
    "name": "ipython",
    "version": 3
   },
   "file_extension": ".py",
   "mimetype": "text/x-python",
   "name": "python",
   "nbconvert_exporter": "python",
   "pygments_lexer": "ipython3",
   "version": "3.11.5"
  }
 },
 "nbformat": 4,
 "nbformat_minor": 2
}
