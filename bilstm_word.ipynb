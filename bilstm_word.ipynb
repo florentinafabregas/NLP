{
 "cells": [
  {
   "cell_type": "markdown",
   "metadata": {},
   "source": [
    "### https://github.com/HarmanDotpy/Named-Entity-Recognition-in-Pytorch/blob/main/scripts/train_bilstm_char_random_glove.py"
   ]
  },
  {
   "cell_type": "code",
   "execution_count": 40,
   "metadata": {},
   "outputs": [],
   "source": [
    "import torch\n",
    "torch.manual_seed(10)\n",
    "import torch.nn as nn\n",
    "import torch.nn.functional as F\n",
    "import numpy as np\n",
    "import matplotlib.pyplot as plt\n",
    "from torch.nn.utils.rnn import pack_padded_sequence, pad_packed_sequence, pad_sequence\n",
    "from torch.utils.data import Dataset, DataLoader, TensorDataset\n",
    "import io\n",
    "import sklearn\n",
    "from sklearn.metrics import f1_score\n",
    "from sklearn.metrics import accuracy_score\n",
    "import pickle as pickle\n",
    "import warnings\n",
    "from sklearn.exceptions import UndefinedMetricWarning\n",
    "import seqeval\n",
    "from seqeval.metrics import accuracy_score as seq_accuracy_score\n",
    "from seqeval.metrics import classification_report as seq_classification_report\n",
    "from seqeval.metrics import f1_score as seq_f1_score\n",
    "import pandas as pd"
   ]
  },
  {
   "cell_type": "code",
   "execution_count": 41,
   "metadata": {},
   "outputs": [],
   "source": [
    "## BILSTM model\n",
    "\n",
    "class BiLSTM(nn.Module):\n",
    "    def __init__(self, embedding_size, hidden_size, total_words, num_class, pretrained = False, pretrained_embed = None):\n",
    "        super(BiLSTM, self).__init__()\n",
    "        self.hidden_size = hidden_size\n",
    "        self.wordembed = nn.Embedding.from_pretrained(pretrained_embed, freeze = False)\n",
    "        self.dropout = nn.Dropout(p = 0.5)\n",
    "        self.bilstm = nn.LSTM(embedding_size,hidden_size, bidirectional = True, batch_first = True)\n",
    "        self.linear = nn.Linear(2*hidden_size, num_class) # 2 because forward and backward concatenate\n",
    "\n",
    "    def forward(self, x, xlengths): \n",
    "        x = pack_padded_sequence(x, xlengths.cpu(), batch_first=True, enforce_sorted=False)\n",
    "        x, _ = pad_packed_sequence(x, batch_first=True)\n",
    "        word_embedding = self.wordembed(x) # x is of size(batchsize, seq_len), out is of size (batchsize, seq_len, embedding_size = 100)\n",
    "        # word_embedding = self.fcembed(word_embedding)\n",
    "        word_embedding = self.dropout(word_embedding) # dropout\n",
    "\n",
    "        out, (h,c) = self.bilstm(word_embedding) #'out' has dimension(batchsize, seq_len, 2*hidden_size)\n",
    "        out = self.linear(out) # now 'out' has dimension(batchsize, seq_len, num_class)\n",
    "        out = out.view(-1, out.shape[2]) # shape (128*seqlen, 18)\n",
    "        out = F.log_softmax(out, dim=1) # take the softmax across the dimension num_class, 'out' has dimension(batchsize, seq_len, num_class)\n",
    "        return out"
   ]
  },
  {
   "cell_type": "markdown",
   "metadata": {},
   "source": [
    "#### HELPER FUNCTIONS"
   ]
  },
  {
   "cell_type": "code",
   "execution_count": 42,
   "metadata": {},
   "outputs": [],
   "source": [
    "# reading text file in python and making list of sentences (list of lists) and list of tags(list of lists)\n",
    "def load_data(datapath, buildvocab_tags= True, vocab = None, nertags = None):\n",
    "    if(buildvocab_tags == True):\n",
    "        all_words = []\n",
    "        all_tags = []\n",
    "        with open(datapath) as f:\n",
    "            lines = f.readlines()\n",
    "            sent_num = 0\n",
    "            for line in lines[2:]: #1: so that the first blank line isn't taken into account\n",
    "                if(line == \"\\n\"):\n",
    "                    sent_num+=1\n",
    "                else:\n",
    "                    line_sep = line.split(sep = \" \")\n",
    "                    all_words.append(line_sep[0])\n",
    "                    all_tags.append(line_sep[3][:-1])\n",
    "                    \n",
    "        words = list(set(all_words))\n",
    "        tags = list(set(all_tags))\n",
    "\n",
    "        vocab = {}\n",
    "        vocab['<pad>'] = 0 # for padding input sequences\n",
    "        vocab['<oov>'] = 1\n",
    "        for i, word in enumerate(words):\n",
    "            vocab[word] = i+2\n",
    "            \n",
    "        nertags = {}\n",
    "        nertags['padtag'] = 0\n",
    "        for i,nertag in enumerate(tags):\n",
    "            nertags[nertag] = i+1\n",
    "\n",
    "    train_sent = []\n",
    "    train_tags = []\n",
    "    with open(datapath) as f:\n",
    "        lines = f.readlines()\n",
    "        sent_num = 0\n",
    "        sentence = []\n",
    "        tag = []\n",
    "        for line in lines[2:]: #1: so that the first blank line isn't taken into account\n",
    "            if(line == \"\\n\"):\n",
    "                sent_num+=1\n",
    "                train_sent.append(sentence)\n",
    "                train_tags.append(tag)\n",
    "                sentence = []\n",
    "                tag = []\n",
    "            else:\n",
    "                line_sep = line.split(sep = \" \")\n",
    "                if(line_sep[0] in vocab.keys()):\n",
    "                    sentence.append(vocab[line_sep[0]])\n",
    "                else:\n",
    "                    sentence.append(vocab['<oov>'])\n",
    "                    \n",
    "                tag.append(nertags[line_sep[3][:-1]])\n",
    "\n",
    "    # padding the sentences at the end\n",
    "    seq_maxlen = max(len(x) for x in train_sent)\n",
    "    x_lengths = [len(x) for x in train_sent]\n",
    "    Xtrain = []\n",
    "    Ytrain = []\n",
    "    for sent, tags in zip(train_sent, train_tags):\n",
    "        length_toappend = seq_maxlen - len(sent)\n",
    "        Xtrain.append(sent+[0]*length_toappend)\n",
    "        Ytrain.append(tags+[0]*length_toappend)\n",
    "\n",
    "\n",
    "    Xtrain = torch.Tensor(Xtrain)\n",
    "    Ytrain = torch.Tensor(Ytrain)\n",
    "    x_lengths = torch.Tensor(x_lengths)\n",
    "    print(Xtrain.shape, Ytrain.shape, x_lengths.shape)\n",
    "    \n",
    "    return Xtrain, Ytrain, x_lengths, vocab, nertags\n"
   ]
  },
  {
   "cell_type": "markdown",
   "metadata": {},
   "source": [
    "#### Loading data"
   ]
  },
  {
   "cell_type": "code",
   "execution_count": 43,
   "metadata": {},
   "outputs": [
    {
     "name": "stdout",
     "output_type": "stream",
     "text": [
      "torch.Size([14986, 113]) torch.Size([14986, 113]) torch.Size([14986])\n",
      "torch.Size([3465, 109]) torch.Size([3465, 109]) torch.Size([3465])\n"
     ]
    }
   ],
   "source": [
    "traindatapath = 'data/train.txt'\n",
    "devdatapath = 'data/dev.txt'\n",
    "testdatapath = 'data/test.txt'\n",
    "\n",
    "\n",
    "Xtrain, Ytrain, x_trainlengths, vocab, nertags = load_data(traindatapath, buildvocab_tags=True)\n",
    "Xdev, Ydev, x_devlengths, _, _ = load_data(devdatapath, buildvocab_tags=False, vocab = vocab, nertags = nertags)"
   ]
  },
  {
   "cell_type": "code",
   "execution_count": 44,
   "metadata": {},
   "outputs": [],
   "source": [
    "traindataset = TensorDataset(Xtrain, Ytrain, x_trainlengths)\n",
    "Trainloader = DataLoader(traindataset, batch_size= 128, shuffle=True)\n",
    "\n",
    "devdataset = TensorDataset(Xdev, Ydev, x_devlengths)\n",
    "Devloader = DataLoader(devdataset, batch_size= 128, shuffle=True)"
   ]
  },
  {
   "cell_type": "code",
   "execution_count": 45,
   "metadata": {},
   "outputs": [],
   "source": [
    "# DEFINE MY MODEL!!! \n",
    "\n",
    "pre_embeddings = 'glove'\n",
    "Expname = 'BILSTM_glove'\n",
    "rootpath = 'out/'\n",
    "glove_embeddings_file = 'data/glove.6B.100d.txt'"
   ]
  },
  {
   "cell_type": "code",
   "execution_count": 46,
   "metadata": {},
   "outputs": [],
   "source": [
    "if torch.cuda.is_available():  \n",
    "    device = \"cuda:0\" \n",
    "else:  \n",
    "    device = \"cpu\"  "
   ]
  },
  {
   "cell_type": "code",
   "execution_count": 47,
   "metadata": {},
   "outputs": [],
   "source": [
    "# LOAD EMBEDDINGS\n",
    "embedding_size = 100\n",
    "if(pre_embeddings == \"glove\"):\n",
    "    gloveembeddings_index = {}\n",
    "    with io.open(glove_embeddings_file, encoding='utf8') as f:\n",
    "        for line in f:\n",
    "            values = line.split()\n",
    "            word = values[0]\n",
    "            coefs = np.asarray(values[1:],dtype='float32')\n",
    "            gloveembeddings_index[word] = coefs\n",
    "\n",
    "    #using vocab and Xtrain, Xvalid, get pretrained glove word embeddings\n",
    "    glove_embeds = np.zeros((len(vocab), embedding_size))\n",
    "    for word in vocab.keys():\n",
    "        if(word in gloveembeddings_index.keys()):\n",
    "            # for the pad word let theembedding be all zeros\n",
    "            glove_embeds[vocab[word]] = gloveembeddings_index[word]\n",
    "        else:\n",
    "            glove_embeds[vocab[word]] = np.random.randn(embedding_size)\n",
    "    word_embeds = torch.Tensor(glove_embeds)\n",
    "    # print(glove_embeds.shape) # shape (vocablength , embedding dim)\n"
   ]
  },
  {
   "cell_type": "code",
   "execution_count": 48,
   "metadata": {},
   "outputs": [],
   "source": [
    "# classes to be looked at for performance metrics\n",
    "imp_classes = [nertags[tag] for tag in nertags.keys()]\n",
    "imp_classes.remove(nertags['padtag'])\n",
    "imp_classes.remove(nertags['O'])"
   ]
  },
  {
   "cell_type": "code",
   "execution_count": 49,
   "metadata": {},
   "outputs": [],
   "source": [
    "model = BiLSTM(embedding_size = 100, hidden_size = 100, total_words = len(vocab), num_class = 18, pretrained = True, pretrained_embed = word_embeds).to(device)\n",
    "optimizer = torch.optim.Adam(model.parameters(), lr = 0.01)\n",
    "lossfunction = nn.CrossEntropyLoss()"
   ]
  },
  {
   "cell_type": "code",
   "execution_count": 53,
   "metadata": {},
   "outputs": [],
   "source": [
    "def performance(y, ypred, nertags):\n",
    "    y = y.numpy()\n",
    "    ypred = ypred.numpy()\n",
    "    mask = (y != nertags['padtag']) * (y != nertags['O'])\n",
    "    y = y*mask\n",
    "    ypred = ypred*mask\n",
    "    acc = ((y==ypred)*mask).sum()/mask.sum()\n",
    "    microf1 = f1_score(y, ypred, labels = imp_classes, average='micro')\n",
    "    macrof1 = f1_score(y, ypred, labels = imp_classes, average='macro')\n",
    "\n",
    "    return acc, microf1, macrof1"
   ]
  },
  {
   "cell_type": "code",
   "execution_count": 54,
   "metadata": {},
   "outputs": [],
   "source": [
    "def validate(model, loader):\n",
    "        with torch.no_grad():\n",
    "            validloss = 0\n",
    "            acc = 0\n",
    "            microf1 = 0\n",
    "            macrof1 = 0\n",
    "            i = 0\n",
    "            for step, (X, Y, xlen) in enumerate(loader):\n",
    "                Y = pack_padded_sequence(Y, xlen, batch_first=True, enforce_sorted=False)\n",
    "                Y, _ = pad_packed_sequence(Y, batch_first=True)\n",
    "                ypred = model(X.long().to(device), xlen.to(device))#.permute(0, 2, 1)\n",
    "                vloss = lossfunction(ypred.to('cpu'), Y.view(-1).type(torch.LongTensor))\n",
    "                validloss+=vloss.item()\n",
    "                acc_, microf1_, macrof1_ = performance(Y.view(-1), torch.argmax(ypred.to('cpu'), dim = 1), nertags)\n",
    "                acc+=acc_\n",
    "                microf1 += microf1_\n",
    "                macrof1 += macrof1_\n",
    "                i+=1\n",
    "\n",
    "        return validloss/i, acc/i, microf1/i, macrof1/i"
   ]
  },
  {
   "cell_type": "code",
   "execution_count": 55,
   "metadata": {},
   "outputs": [],
   "source": [
    "trainlosslist = []\n",
    "trainacclist = []\n",
    "trainmicrof1list = []\n",
    "trainmacrof1list = []\n",
    "\n",
    "validlosslist = []\n",
    "valacclist = []\n",
    "valmicrof1list = []\n",
    "valmacrof1list = []"
   ]
  },
  {
   "cell_type": "code",
   "execution_count": 56,
   "metadata": {},
   "outputs": [
    {
     "name": "stdout",
     "output_type": "stream",
     "text": [
      "training accuracy = 0.007200268035377574, microF1 = 0.01170786326705112, macroF1 = 0.008252942731949087\n",
      "training accuracy = 0.029771348338637166, microF1 = 0.04804269490225878, macroF1 = 0.027725176490984476\n",
      "training accuracy = 0.06249740358827441, microF1 = 0.09352672115307814, macroF1 = 0.052857339850732675\n",
      "training accuracy = 0.11418349453840529, microF1 = 0.15566951021653197, macroF1 = 0.09259206360439287\n",
      "training accuracy = 0.1666080841925699, microF1 = 0.21249517263558174, macroF1 = 0.13433959197464745\n",
      "\n",
      "epoch = 0, training_loss = 0.17131071619815746, validation_loss =0.0900065250960844, training_acc = 0.20619003799892016, validation_acc =0.4985512462435913\n",
      "training accuracy = 0.5179886128094398, microF1 = 0.5729715939885468, macroF1 = 0.47344996250264143\n",
      "training accuracy = 0.557281218415886, microF1 = 0.6075494833026613, macroF1 = 0.5190385265133326\n",
      "training accuracy = 0.5834044881952264, microF1 = 0.6324673119262813, macroF1 = 0.5534310779344931\n",
      "training accuracy = 0.6078168799660854, microF1 = 0.6555388375933233, macroF1 = 0.5825621700294437\n",
      "training accuracy = 0.6255368253417681, microF1 = 0.6715173593116537, macroF1 = 0.6035332722236271\n",
      "\n",
      "epoch = 1, training_loss = 0.06106168899874566, validation_loss =0.06315550141568695, training_acc = 0.6397346674734483, validation_acc =0.6941951320147125\n",
      "training accuracy = 0.776881451098102, microF1 = 0.8059932171350009, macroF1 = 0.7627161198952711\n",
      "training accuracy = 0.780496835737031, microF1 = 0.811789877331986, macroF1 = 0.7727463312147\n",
      "training accuracy = 0.7866904691240114, microF1 = 0.8164980207152814, macroF1 = 0.7784146162350872\n",
      "training accuracy = 0.7923509498312052, microF1 = 0.8212425594676414, macroF1 = 0.7843067826769016\n",
      "training accuracy = 0.7958220533673867, microF1 = 0.8245154801257999, macroF1 = 0.7886271682362043\n",
      "\n",
      "epoch = 2, training_loss = 0.03568398480508792, validation_loss =0.05987521653462734, training_acc = 0.7988224198571444, validation_acc =0.7536071828732025\n",
      "training accuracy = 0.8636368003969361, microF1 = 0.8836608412297412, macroF1 = 0.8638928999767395\n",
      "training accuracy = 0.864034641690782, microF1 = 0.8842496585704102, macroF1 = 0.8613838292297323\n",
      "training accuracy = 0.8619199469380607, microF1 = 0.882388473297835, macroF1 = 0.8584474490982208\n",
      "training accuracy = 0.8653398138766425, microF1 = 0.8857995257216885, macroF1 = 0.8616039458984548\n",
      "training accuracy = 0.8653823352667971, microF1 = 0.8858996063018734, macroF1 = 0.8621660897915115\n",
      "\n",
      "epoch = 3, training_loss = 0.02425016146311063, validation_loss =0.056317582460386414, training_acc = 0.864827602549082, validation_acc =0.7707312707159238\n",
      "training accuracy = 0.8917725918626844, microF1 = 0.9095978097207019, macroF1 = 0.8887931959213082\n",
      "training accuracy = 0.8951778191523924, microF1 = 0.9121874493330828, macroF1 = 0.8903563496393233\n",
      "training accuracy = 0.8982128754008001, microF1 = 0.9139542043469386, macroF1 = 0.8931333934544037\n",
      "training accuracy = 0.8990569742873735, microF1 = 0.9147628859780461, macroF1 = 0.8952350142349664\n",
      "training accuracy = 0.9002091972926258, microF1 = 0.9160439072508618, macroF1 = 0.8971369686252305\n",
      "\n",
      "epoch = 4, training_loss = 0.01840086750512532, validation_loss =0.06685939943417907, training_acc = 0.9004484369979036, validation_acc =0.8098074253419277\n",
      "training accuracy = 0.928755402603997, microF1 = 0.9381331448296583, macroF1 = 0.9241240204416508\n",
      "training accuracy = 0.9264412030497673, microF1 = 0.9367352258555205, macroF1 = 0.9226279961973051\n",
      "training accuracy = 0.9295294096074461, microF1 = 0.9398105134067194, macroF1 = 0.9245348972498558\n",
      "training accuracy = 0.9281863952905561, microF1 = 0.9392146694432081, macroF1 = 0.9240982815852451\n",
      "training accuracy = 0.9279081799221311, microF1 = 0.9390793083622827, macroF1 = 0.9246276010085781\n",
      "\n",
      "epoch = 5, training_loss = 0.013454852207421751, validation_loss =0.061469059237944226, training_acc = 0.9290269445239189, validation_acc =0.7922796278582939\n",
      "training accuracy = 0.9257894071872579, microF1 = 0.937967216269381, macroF1 = 0.9255890435231919\n",
      "training accuracy = 0.9270576091523389, microF1 = 0.9397214507425881, macroF1 = 0.9273488797655391\n",
      "training accuracy = 0.930359453210335, microF1 = 0.9426253262327425, macroF1 = 0.9301451401079671\n",
      "training accuracy = 0.9301833446803472, microF1 = 0.9419542825526263, macroF1 = 0.9272754671038728\n",
      "training accuracy = 0.9282400554089785, microF1 = 0.9403989095839798, macroF1 = 0.9235834463446593\n",
      "\n",
      "epoch = 6, training_loss = 0.013252242330177608, validation_loss =0.060502748736845594, training_acc = 0.9287032599479138, validation_acc =0.7923794986977023\n",
      "training accuracy = 0.9277173391862454, microF1 = 0.9387472954315778, macroF1 = 0.9201732105434723\n",
      "training accuracy = 0.929833779308995, microF1 = 0.941447262803287, macroF1 = 0.9253491538536599\n",
      "training accuracy = 0.9291443864153991, microF1 = 0.9411740778492564, macroF1 = 0.9249110401613427\n",
      "training accuracy = 0.9289918079405655, microF1 = 0.9411919600541059, macroF1 = 0.9258227560066946\n",
      "training accuracy = 0.9287409655526314, microF1 = 0.9411543809086351, macroF1 = 0.926347905415188\n",
      "\n",
      "epoch = 7, training_loss = 0.01281839520354771, validation_loss =0.06086609213213835, training_acc = 0.929233325843696, validation_acc =0.8063890215684222\n",
      "training accuracy = 0.9285204973189394, microF1 = 0.94027844471019, macroF1 = 0.9280721444759126\n",
      "training accuracy = 0.9291702167877968, microF1 = 0.940291657938016, macroF1 = 0.9238772044927102\n",
      "training accuracy = 0.9307744955229963, microF1 = 0.941478925641045, macroF1 = 0.9276505368997416\n",
      "training accuracy = 0.9303861407257087, microF1 = 0.9416987655504433, macroF1 = 0.927972210476011\n",
      "training accuracy = 0.9293772161417192, microF1 = 0.9409911295536117, macroF1 = 0.9265305271073636\n",
      "\n",
      "epoch = 8, training_loss = 0.012673596772602049, validation_loss =0.05864936698760305, training_acc = 0.9287106963112581, validation_acc =0.8049382993552089\n",
      "training accuracy = 0.9309124541707783, microF1 = 0.943685071189294, macroF1 = 0.9290112909272665\n",
      "training accuracy = 0.9318649193887333, microF1 = 0.9438307363671004, macroF1 = 0.9296826716994397\n",
      "training accuracy = 0.9319563962453055, microF1 = 0.9438910287355543, macroF1 = 0.930613194978015\n",
      "training accuracy = 0.9308847613094051, microF1 = 0.9426918185172342, macroF1 = 0.9292006108698202\n",
      "training accuracy = 0.9316711506225073, microF1 = 0.9433082882378826, macroF1 = 0.9290513720871518\n",
      "\n",
      "epoch = 9, training_loss = 0.012382780979150685, validation_loss =0.05909548008016178, training_acc = 0.9322743444562609, validation_acc =0.8081791183606889\n"
     ]
    }
   ],
   "source": [
    "# Model is ready now we have to train using cross entropy loss\n",
    "num_epochs = 10\n",
    "\n",
    "warnings.filterwarnings(\"ignore\", category=UndefinedMetricWarning)\n",
    "\n",
    "# validloss = []\n",
    "model.train()\n",
    "for epoch in range(num_epochs):\n",
    "    if(epoch == 5):\n",
    "        optimizer = torch.optim.Adam(model.parameters(), lr = 0.0001)\n",
    "        \n",
    "    totalloss, acc, microf1, macrof1 = 0, 0, 0, 0\n",
    "    for step, (Xbatch ,Ybatch, xbatch_len) in enumerate(Trainloader):\n",
    "        #make gradients 0\n",
    "        optimizer.zero_grad()\n",
    "\n",
    "        Ybatch = pack_padded_sequence(Ybatch, xbatch_len, batch_first=True, enforce_sorted=False)\n",
    "        Ybatch, y_lengths = pad_packed_sequence(Ybatch, batch_first=True)\n",
    "\n",
    "        #get output from model and claculate loss\n",
    "        ypred = model(Xbatch.long().to(device), xbatch_len.to(device))#.permute(0, 2, 1)\n",
    "        \n",
    "        acc_, microf1_, macrof1_ = performance(Ybatch.view(-1), torch.argmax(ypred.to('cpu'), dim = 1), nertags)\n",
    "        acc+= acc_\n",
    "        microf1+=microf1_\n",
    "        macrof1+=macrof1_\n",
    "        if(step%20 == 0 and step !=0):\n",
    "            print(\"training accuracy = {}, microF1 = {}, macroF1 = {}\".format(acc/(step+1), microf1/(step+1), macrof1/(step+1)))\n",
    "            \n",
    "        loss = lossfunction(ypred.to('cpu'), Ybatch.view(-1).type(torch.LongTensor)) #Ybatch has dimension (batchsize, seqlen), ypred has dimension(batchsize, num_classes, seqlen)\n",
    "        totalloss += loss.item()\n",
    "\n",
    "        #backward and step\n",
    "        loss.backward()\n",
    "        nn.utils.clip_grad_norm_(model.parameters(), 5) # clip gradient to 5\n",
    "        optimizer.step()\n",
    "        \n",
    "    trainlosslist.append(totalloss/(step+1))\n",
    "    trainacclist.append(acc/(step+1))\n",
    "    trainmicrof1list.append(microf1/(step+1))\n",
    "    trainmacrof1list.append(macrof1/(step+1))\n",
    "\n",
    "    # model validation loss and scheduler step for learning rate change if required\n",
    "    val_loss, val_acc, val_microf1, val_macrof1  = validate(model, Devloader)\n",
    "    validlosslist.append(val_loss)\n",
    "    valacclist.append(val_acc)\n",
    "    valmicrof1list.append(val_microf1)\n",
    "    valmacrof1list.append(val_macrof1)\n",
    "        \n",
    "    # scheduler.step(val_loss)\n",
    "    print('\\nepoch = {}, training_loss = {}, validation_loss ={}, training_acc = {}, validation_acc ={}'.format(epoch, trainlosslist[-1], validlosslist[-1], trainacclist[-1], valacclist[-1]))        \n",
    "    "
   ]
  },
  {
   "cell_type": "code",
   "execution_count": 57,
   "metadata": {},
   "outputs": [],
   "source": [
    "id2word = {id: word for word, id in vocab.items()} \n",
    "id2tag = {}\n",
    "for tag in nertags.keys():\n",
    "    if(tag == 'padtag'):\n",
    "         id2tag[nertags[tag]] = 'O' \n",
    "    else:\n",
    "        id2tag[nertags[tag]] = tag"
   ]
  },
  {
   "cell_type": "code",
   "execution_count": 58,
   "metadata": {},
   "outputs": [
    {
     "data": {
      "text/plain": [
       "BiLSTM(\n",
       "  (wordembed): Embedding(23626, 100)\n",
       "  (dropout): Dropout(p=0.5, inplace=False)\n",
       "  (bilstm): LSTM(100, 100, batch_first=True, bidirectional=True)\n",
       "  (linear): Linear(in_features=200, out_features=18, bias=True)\n",
       ")"
      ]
     },
     "execution_count": 58,
     "metadata": {},
     "output_type": "execute_result"
    }
   ],
   "source": [
    "model.eval()"
   ]
  },
  {
   "cell_type": "code",
   "execution_count": 59,
   "metadata": {},
   "outputs": [],
   "source": [
    "import os\n",
    "if not os.path.exists(rootpath):\n",
    "       os.mkdir(rootpath)\n",
    "\n",
    "if not os.path.exists(rootpath+Expname):\n",
    "    os.mkdir(rootpath+Expname)"
   ]
  },
  {
   "cell_type": "code",
   "execution_count": 60,
   "metadata": {},
   "outputs": [],
   "source": [
    "def final_metrics(model,loader):\n",
    "    y_predicted = []\n",
    "    y_true = []\n",
    "    with torch.no_grad():\n",
    "        for step, (X, Y, xlen) in enumerate(loader):\n",
    "            Y = pack_padded_sequence(Y, xlen, batch_first=True, enforce_sorted=False)\n",
    "            Y, _ = pad_packed_sequence(Y, batch_first=True)\n",
    "            ypred = model(X.long().to(device), xlen.to(device))#.permute(0, 2, 1)\n",
    "            ypred = torch.argmax(ypred.to('cpu'), dim = 1)\n",
    "            ypred = ypred.view(Y.shape[0], -1)\n",
    "            y_predicted.append(ypred)\n",
    "            y_true.append(Y)\n",
    "\n",
    "    y_predicted_list = []\n",
    "    y_true_list = []\n",
    "    for i in range(len(y_predicted)):\n",
    "        for j in range(y_predicted[i].shape[0]):\n",
    "            sent_pred = []\n",
    "            sent_true = []\n",
    "            for x in range(y_predicted[i].shape[1]):\n",
    "                sent_pred.append(id2tag[int(y_predicted[i][j, x])])\n",
    "                sent_true.append(id2tag[int(y_true[i][j, x])])\n",
    "            y_predicted_list.append(sent_pred)\n",
    "            y_true_list.append(sent_true)\n",
    "    \n",
    "    return seq_f1_score(y_true_list, y_predicted_list), seq_accuracy_score(y_true_list, y_predicted_list), seq_classification_report(y_true_list, y_predicted_list, digits = 3)"
   ]
  },
  {
   "cell_type": "code",
   "execution_count": 61,
   "metadata": {},
   "outputs": [
    {
     "name": "stdout",
     "output_type": "stream",
     "text": [
      "torch.Size([3683, 124]) torch.Size([3683, 124]) torch.Size([3683])\n",
      "PERFORMANCE ON Test DATA\n",
      "MicroF1 = 0.6382778864970646\n",
      "Accuracy = 0.9156327011678989\n",
      "------------Classification Report-------------\n",
      "              precision    recall  f1-score   support\n",
      "\n",
      "         LOC      0.683     0.717     0.699      1668\n",
      "        MISC      0.339     0.670     0.450       702\n",
      "         ORG      0.516     0.718     0.601      1661\n",
      "         PER      0.725     0.754     0.739      1617\n",
      "\n",
      "   micro avg      0.572     0.722     0.638      5648\n",
      "   macro avg      0.566     0.715     0.622      5648\n",
      "weighted avg      0.603     0.722     0.651      5648\n",
      "\n"
     ]
    }
   ],
   "source": [
    "#Test DATASET\n",
    "Xtest, Ytest, x_testlengths, _, _ = load_data(testdatapath, buildvocab_tags=False, vocab = vocab, nertags = nertags)\n",
    "\n",
    "testdataset = TensorDataset(Xtest, Ytest, x_testlengths)\n",
    "loader_test = DataLoader(testdataset, batch_size= 1, shuffle=False)\n",
    "test_f1_conll, test_acc_conll, test_classif_report = final_metrics(model, loader_test)\n",
    "\n",
    "print(\"PERFORMANCE ON Test DATA\")\n",
    "print('MicroF1 = {}'.format(test_f1_conll))\n",
    "print('Accuracy = {}'.format(test_acc_conll))\n",
    "print('------------Classification Report-------------')\n",
    "print(test_classif_report)"
   ]
  },
  {
   "cell_type": "code",
   "execution_count": 62,
   "metadata": {},
   "outputs": [],
   "source": [
    "def out_predictions(model, loader, output_file):\n",
    "    with open(output_file, 'w') as f:\n",
    "        with torch.no_grad():\n",
    "            for step, (X, Y, xlen) in enumerate(loader):\n",
    "                Y = pack_padded_sequence(Y, xlen, batch_first=True, enforce_sorted=False)\n",
    "                Y, _ = pad_packed_sequence(Y, batch_first=True)\n",
    "                ypred = model(X.long().to(device), xlen.to(device))\n",
    "                ypred = torch.argmax(ypred.to('cpu'), dim=1)\n",
    "                ypred = ypred.view(Y.shape[0], -1)\n",
    "                for i in range(len(ypred)):\n",
    "                    for j in range(len(ypred[i])):\n",
    "                        word = id2word[int(X[i, j])]\n",
    "                        tag = id2tag[int(ypred[i, j])]\n",
    "                        f.write(f\"{word}\\t{tag}\\n\")\n",
    "                    f.write('\\n')"
   ]
  },
  {
   "cell_type": "code",
   "execution_count": 63,
   "metadata": {},
   "outputs": [],
   "source": [
    "out_predictions(model, loader_test, 'predictions/gold_bilstm_word2.txt')"
   ]
  },
  {
   "cell_type": "code",
   "execution_count": 73,
   "metadata": {},
   "outputs": [],
   "source": [
    "# SPAN-F1 SCORE\n",
    "\n",
    "def readBIO(path):\n",
    "    ents = []\n",
    "    curEnts = []\n",
    "    for line in open(path):\n",
    "        line = line.strip()\n",
    "        if line == '':\n",
    "            ents.append(curEnts)\n",
    "            curEnts = []\n",
    "        elif line[0] == '#' and len(line.split('\\t')) == 1:\n",
    "            continue\n",
    "        else:\n",
    "            curEnts.append(line.split('\\t')[1])\n",
    "    return ents\n",
    "\n",
    "def toSpans(tags):\n",
    "    spans = set()\n",
    "    for beg in range(len(tags)):\n",
    "        if tags[beg][0] == 'B':\n",
    "            end = beg\n",
    "            for end in range(beg+1, len(tags)):\n",
    "                if tags[end][0] != 'I':\n",
    "                    break\n",
    "            spans.add(str(beg) + '-' + str(end) + ':' + tags[beg][2:])\n",
    "            #print(end-beg)\n",
    "    return spans\n",
    "\n",
    "def getInstanceScores(predPath, goldPath):\n",
    "    goldEnts = readBIO(goldPath)\n",
    "    predEnts = readBIO(predPath)\n",
    "    entScores = []\n",
    "    tp = 0\n",
    "    fp = 0\n",
    "    fn = 0\n",
    "    for goldEnt, predEnt in zip(goldEnts, predEnts):\n",
    "        goldSpans = toSpans(goldEnt)\n",
    "        predSpans = toSpans(predEnt)\n",
    "        overlap = len(goldSpans.intersection(predSpans))\n",
    "        tp += overlap\n",
    "        fp += len(predSpans) - overlap\n",
    "        fn += len(goldSpans) - overlap\n",
    "        \n",
    "    prec = 0.0 if tp+fp == 0 else tp/(tp+fp)\n",
    "    rec = 0.0 if tp+fn == 0 else tp/(tp+fn)\n",
    "    f1 = 0.0 if prec+rec == 0.0 else 2 * (prec * rec) / (prec + rec)\n",
    "    return f1"
   ]
  },
  {
   "cell_type": "code",
   "execution_count": 65,
   "metadata": {},
   "outputs": [],
   "source": [
    "pred = 'predictions/gold_bilstm_word2.txt'\n",
    "gold = 'data/gold.txt'"
   ]
  },
  {
   "cell_type": "code",
   "execution_count": 66,
   "metadata": {},
   "outputs": [
    {
     "name": "stdout",
     "output_type": "stream",
     "text": [
      "Span-F1 score - word-biLSTM  0.6844946025515212\n"
     ]
    }
   ],
   "source": [
    "score = getInstanceScores(pred,gold)\n",
    "print('Span-F1 score - word-biLSTM ', score)"
   ]
  },
  {
   "cell_type": "markdown",
   "metadata": {},
   "source": [
    "#### NOISE"
   ]
  },
  {
   "cell_type": "code",
   "execution_count": 67,
   "metadata": {},
   "outputs": [],
   "source": [
    "def load_data(datapath):\n",
    "    sentences = []\n",
    "    tags = []\n",
    "    with open(datapath) as f:\n",
    "        lines = f.readlines()\n",
    "        sentence = []\n",
    "        tag = []\n",
    "        for line in lines:\n",
    "            line = line.strip()  # Remove leading/trailing whitespace\n",
    "            if line:  # If the line is not empty\n",
    "                word, tag_label = line.split('\\t')\n",
    "                if vocab is not None:\n",
    "                    if word in vocab.keys():\n",
    "                        sentence.append(vocab[word])\n",
    "                    else:\n",
    "                        sentence.append(vocab['<oov>'])\n",
    "                if nertags is not None:\n",
    "                    tag.append(nertags[tag_label])\n",
    "            else:  # If the line is empty, indicating end of a sentence\n",
    "                if sentence:\n",
    "                    sentences.append(sentence)\n",
    "                    tags.append(tag)\n",
    "                    sentence = []\n",
    "                    tag = []\n",
    "\n",
    "    # Padding the sentences at the end\n",
    "    max_length = max(len(x) for x in sentences)\n",
    "    x_lengths = [len(x) for x in sentences]\n",
    "    X_test = []\n",
    "    Y_test = []\n",
    "    for sent, tag in zip(sentences, tags):\n",
    "        length_to_append = max_length - len(sent)\n",
    "        X_test.append(sent + [0] * length_to_append)  # Padding with zeros\n",
    "        Y_test.append(tag + [0] * length_to_append)  # Padding with zeros\n",
    "\n",
    "    X_test = torch.Tensor(X_test)\n",
    "    Y_test = torch.Tensor(Y_test)\n",
    "    x_lengths = torch.Tensor(x_lengths)\n",
    "\n",
    "    return X_test, Y_test, x_lengths\n"
   ]
  },
  {
   "cell_type": "code",
   "execution_count": 68,
   "metadata": {},
   "outputs": [],
   "source": [
    "noise_rates = {\n",
    "    'capitalization_swap': [0.1, 0.15, 0.2, 0.25, 0.3], \n",
    "    'character_swap': [0.1, 0.15, 0.2, 0.25, 0.3],\n",
    "    'character_removal': [0.1, 0.15, 0.2, 0.25, 0.3],\n",
    "    'character_replacement': [0.1, 0.15, 0.2, 0.25, 0.3]\n",
    "}"
   ]
  },
  {
   "cell_type": "code",
   "execution_count": 69,
   "metadata": {},
   "outputs": [],
   "source": [
    "def loader_test(testdatapath):\n",
    "    Xtest, Ytest, x_testlengths = load_data(testdatapath)\n",
    "\n",
    "    testdataset = TensorDataset(Xtest, Ytest, x_testlengths)\n",
    "    loader_test = DataLoader(testdataset, batch_size=1, shuffle=False)\n",
    "    return loader_test"
   ]
  },
  {
   "cell_type": "code",
   "execution_count": 70,
   "metadata": {},
   "outputs": [
    {
     "name": "stdout",
     "output_type": "stream",
     "text": [
      "               Noise Type  Noise Rate  F1 Score\n",
      "0     capitalization_swap        0.10  0.601352\n",
      "1     capitalization_swap        0.15  0.573163\n",
      "2     capitalization_swap        0.20  0.539213\n",
      "3     capitalization_swap        0.25  0.509173\n",
      "4     capitalization_swap        0.30  0.487925\n",
      "5          character_swap        0.10  0.621818\n",
      "6          character_swap        0.15  0.464370\n",
      "7          character_swap        0.20  0.350374\n",
      "8          character_swap        0.25  0.306400\n",
      "9          character_swap        0.30  0.297426\n",
      "10      character_removal        0.10  0.616336\n",
      "11      character_removal        0.15  0.441565\n",
      "12      character_removal        0.20  0.312645\n",
      "13      character_removal        0.25  0.271561\n",
      "14      character_removal        0.30  0.270782\n",
      "15  character_replacement        0.10  0.617682\n",
      "16  character_replacement        0.15  0.439147\n",
      "17  character_replacement        0.20  0.312623\n",
      "18  character_replacement        0.25  0.273910\n",
      "19  character_replacement        0.30  0.273706\n"
     ]
    }
   ],
   "source": [
    "noise_types = []\n",
    "noise_rate = []\n",
    "f1_scores = []\n",
    "\n",
    "for noise_type in noise_rates.keys():\n",
    "    for rate in noise_rates[noise_type]:\n",
    "        my_loader = loader_test(f'data/altered/{noise_type}_rate_{rate}.txt')\n",
    "        out_predictions(model, my_loader, f'predictions/word/{noise_type}_rate_{rate}.txt')\n",
    "        score = getInstanceScores(f'predictions/word/{noise_type}_rate_{rate}.txt', 'predictions/gold_bilstm_word.txt')\n",
    "        \n",
    "        # Append data to lists\n",
    "        noise_types.append(noise_type)\n",
    "        noise_rate.append(rate)\n",
    "        f1_scores.append(score)\n",
    "\n",
    "data = {'Noise Type': noise_types, 'Noise Rate': noise_rate, 'F1 Score': f1_scores}\n",
    "df = pd.DataFrame(data)\n",
    "print(df)"
   ]
  },
  {
   "cell_type": "code",
   "execution_count": 71,
   "metadata": {},
   "outputs": [],
   "source": [
    "df.to_csv('out/df_noise_word.csv', index=False)"
   ]
  },
  {
   "cell_type": "code",
   "execution_count": 72,
   "metadata": {},
   "outputs": [],
   "source": [
    "# Save the trained model's state dictionary\n",
    "torch.save(model.state_dict(), 'models/bilstm_word/model_bilst_word.pth')\n",
    "\n",
    "# Save the dictionaries\n",
    "with open('models/bilstm_word/id2word.pkl', 'wb') as f:\n",
    "    pickle.dump(id2word, f)\n",
    "with open('models/bilstm_word/id2tag.pkl', 'wb') as f:\n",
    "    pickle.dump(id2tag, f)\n",
    "with open('models/bilstm_word/vocab.pkl', 'wb') as f:\n",
    "    pickle.dump(vocab, f)\n",
    "with open('models/bilstm_word/nertags.pkl', 'wb') as f:\n",
    "    pickle.dump(nertags, f)"
   ]
  }
 ],
 "metadata": {
  "kernelspec": {
   "display_name": "base",
   "language": "python",
   "name": "python3"
  },
  "language_info": {
   "codemirror_mode": {
    "name": "ipython",
    "version": 3
   },
   "file_extension": ".py",
   "mimetype": "text/x-python",
   "name": "python",
   "nbconvert_exporter": "python",
   "pygments_lexer": "ipython3",
   "version": "3.11.5"
  }
 },
 "nbformat": 4,
 "nbformat_minor": 2
}
